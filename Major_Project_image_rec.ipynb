{
  "cells": [
    {
      "cell_type": "markdown",
      "source": [
        "# ***ACCIDENT PREDICTION USING IMAGE RECOGNITION***\n",
        "\n",
        "BY:\n",
        "*   NATASHA SETHI - 11801012022\n",
        "*   SHUBHI SUDAN - 18801012022\n",
        "*   SHWETA TYAGI - 18901012022"
      ],
      "metadata": {
        "id": "tARjgn97WA9L"
      }
    },
    {
      "cell_type": "code",
      "execution_count": null,
      "metadata": {
        "id": "6Og1VMORDgpG"
      },
      "outputs": [],
      "source": [
        "!pip install -q kaggle"
      ]
    },
    {
      "cell_type": "code",
      "execution_count": null,
      "metadata": {
        "colab": {
          "base_uri": "https://localhost:8080/",
          "height": 90
        },
        "id": "LWTpN-hhDocc",
        "outputId": "3b1e8121-97c3-467a-db0e-06a562632a76"
      },
      "outputs": [
        {
          "output_type": "display_data",
          "data": {
            "text/plain": [
              "<IPython.core.display.HTML object>"
            ],
            "text/html": [
              "\n",
              "     <input type=\"file\" id=\"files-4be17bf2-56db-434d-a52b-25c906fa287d\" name=\"files[]\" multiple disabled\n",
              "        style=\"border:none\" />\n",
              "     <output id=\"result-4be17bf2-56db-434d-a52b-25c906fa287d\">\n",
              "      Upload widget is only available when the cell has been executed in the\n",
              "      current browser session. Please rerun this cell to enable.\n",
              "      </output>\n",
              "      <script>// Copyright 2017 Google LLC\n",
              "//\n",
              "// Licensed under the Apache License, Version 2.0 (the \"License\");\n",
              "// you may not use this file except in compliance with the License.\n",
              "// You may obtain a copy of the License at\n",
              "//\n",
              "//      http://www.apache.org/licenses/LICENSE-2.0\n",
              "//\n",
              "// Unless required by applicable law or agreed to in writing, software\n",
              "// distributed under the License is distributed on an \"AS IS\" BASIS,\n",
              "// WITHOUT WARRANTIES OR CONDITIONS OF ANY KIND, either express or implied.\n",
              "// See the License for the specific language governing permissions and\n",
              "// limitations under the License.\n",
              "\n",
              "/**\n",
              " * @fileoverview Helpers for google.colab Python module.\n",
              " */\n",
              "(function(scope) {\n",
              "function span(text, styleAttributes = {}) {\n",
              "  const element = document.createElement('span');\n",
              "  element.textContent = text;\n",
              "  for (const key of Object.keys(styleAttributes)) {\n",
              "    element.style[key] = styleAttributes[key];\n",
              "  }\n",
              "  return element;\n",
              "}\n",
              "\n",
              "// Max number of bytes which will be uploaded at a time.\n",
              "const MAX_PAYLOAD_SIZE = 100 * 1024;\n",
              "\n",
              "function _uploadFiles(inputId, outputId) {\n",
              "  const steps = uploadFilesStep(inputId, outputId);\n",
              "  const outputElement = document.getElementById(outputId);\n",
              "  // Cache steps on the outputElement to make it available for the next call\n",
              "  // to uploadFilesContinue from Python.\n",
              "  outputElement.steps = steps;\n",
              "\n",
              "  return _uploadFilesContinue(outputId);\n",
              "}\n",
              "\n",
              "// This is roughly an async generator (not supported in the browser yet),\n",
              "// where there are multiple asynchronous steps and the Python side is going\n",
              "// to poll for completion of each step.\n",
              "// This uses a Promise to block the python side on completion of each step,\n",
              "// then passes the result of the previous step as the input to the next step.\n",
              "function _uploadFilesContinue(outputId) {\n",
              "  const outputElement = document.getElementById(outputId);\n",
              "  const steps = outputElement.steps;\n",
              "\n",
              "  const next = steps.next(outputElement.lastPromiseValue);\n",
              "  return Promise.resolve(next.value.promise).then((value) => {\n",
              "    // Cache the last promise value to make it available to the next\n",
              "    // step of the generator.\n",
              "    outputElement.lastPromiseValue = value;\n",
              "    return next.value.response;\n",
              "  });\n",
              "}\n",
              "\n",
              "/**\n",
              " * Generator function which is called between each async step of the upload\n",
              " * process.\n",
              " * @param {string} inputId Element ID of the input file picker element.\n",
              " * @param {string} outputId Element ID of the output display.\n",
              " * @return {!Iterable<!Object>} Iterable of next steps.\n",
              " */\n",
              "function* uploadFilesStep(inputId, outputId) {\n",
              "  const inputElement = document.getElementById(inputId);\n",
              "  inputElement.disabled = false;\n",
              "\n",
              "  const outputElement = document.getElementById(outputId);\n",
              "  outputElement.innerHTML = '';\n",
              "\n",
              "  const pickedPromise = new Promise((resolve) => {\n",
              "    inputElement.addEventListener('change', (e) => {\n",
              "      resolve(e.target.files);\n",
              "    });\n",
              "  });\n",
              "\n",
              "  const cancel = document.createElement('button');\n",
              "  inputElement.parentElement.appendChild(cancel);\n",
              "  cancel.textContent = 'Cancel upload';\n",
              "  const cancelPromise = new Promise((resolve) => {\n",
              "    cancel.onclick = () => {\n",
              "      resolve(null);\n",
              "    };\n",
              "  });\n",
              "\n",
              "  // Wait for the user to pick the files.\n",
              "  const files = yield {\n",
              "    promise: Promise.race([pickedPromise, cancelPromise]),\n",
              "    response: {\n",
              "      action: 'starting',\n",
              "    }\n",
              "  };\n",
              "\n",
              "  cancel.remove();\n",
              "\n",
              "  // Disable the input element since further picks are not allowed.\n",
              "  inputElement.disabled = true;\n",
              "\n",
              "  if (!files) {\n",
              "    return {\n",
              "      response: {\n",
              "        action: 'complete',\n",
              "      }\n",
              "    };\n",
              "  }\n",
              "\n",
              "  for (const file of files) {\n",
              "    const li = document.createElement('li');\n",
              "    li.append(span(file.name, {fontWeight: 'bold'}));\n",
              "    li.append(span(\n",
              "        `(${file.type || 'n/a'}) - ${file.size} bytes, ` +\n",
              "        `last modified: ${\n",
              "            file.lastModifiedDate ? file.lastModifiedDate.toLocaleDateString() :\n",
              "                                    'n/a'} - `));\n",
              "    const percent = span('0% done');\n",
              "    li.appendChild(percent);\n",
              "\n",
              "    outputElement.appendChild(li);\n",
              "\n",
              "    const fileDataPromise = new Promise((resolve) => {\n",
              "      const reader = new FileReader();\n",
              "      reader.onload = (e) => {\n",
              "        resolve(e.target.result);\n",
              "      };\n",
              "      reader.readAsArrayBuffer(file);\n",
              "    });\n",
              "    // Wait for the data to be ready.\n",
              "    let fileData = yield {\n",
              "      promise: fileDataPromise,\n",
              "      response: {\n",
              "        action: 'continue',\n",
              "      }\n",
              "    };\n",
              "\n",
              "    // Use a chunked sending to avoid message size limits. See b/62115660.\n",
              "    let position = 0;\n",
              "    do {\n",
              "      const length = Math.min(fileData.byteLength - position, MAX_PAYLOAD_SIZE);\n",
              "      const chunk = new Uint8Array(fileData, position, length);\n",
              "      position += length;\n",
              "\n",
              "      const base64 = btoa(String.fromCharCode.apply(null, chunk));\n",
              "      yield {\n",
              "        response: {\n",
              "          action: 'append',\n",
              "          file: file.name,\n",
              "          data: base64,\n",
              "        },\n",
              "      };\n",
              "\n",
              "      let percentDone = fileData.byteLength === 0 ?\n",
              "          100 :\n",
              "          Math.round((position / fileData.byteLength) * 100);\n",
              "      percent.textContent = `${percentDone}% done`;\n",
              "\n",
              "    } while (position < fileData.byteLength);\n",
              "  }\n",
              "\n",
              "  // All done.\n",
              "  yield {\n",
              "    response: {\n",
              "      action: 'complete',\n",
              "    }\n",
              "  };\n",
              "}\n",
              "\n",
              "scope.google = scope.google || {};\n",
              "scope.google.colab = scope.google.colab || {};\n",
              "scope.google.colab._files = {\n",
              "  _uploadFiles,\n",
              "  _uploadFilesContinue,\n",
              "};\n",
              "})(self);\n",
              "</script> "
            ]
          },
          "metadata": {}
        },
        {
          "output_type": "stream",
          "name": "stdout",
          "text": [
            "Saving kaggle.json to kaggle.json\n"
          ]
        },
        {
          "output_type": "execute_result",
          "data": {
            "text/plain": [
              "{'kaggle.json': b'{\"username\":\"natashasethi\",\"key\":\"b9b8966e24ad518ab4b9688eecfcd7eb\"}'}"
            ]
          },
          "metadata": {},
          "execution_count": 2
        }
      ],
      "source": [
        "from google.colab import files\n",
        "files.upload()"
      ]
    },
    {
      "cell_type": "code",
      "execution_count": null,
      "metadata": {
        "id": "xSQatRUfD88y"
      },
      "outputs": [],
      "source": [
        "! mkdir ~/.kaggle"
      ]
    },
    {
      "cell_type": "code",
      "execution_count": null,
      "metadata": {
        "id": "qRbIfyaCEUtr"
      },
      "outputs": [],
      "source": [
        "! cp kaggle.json ~/.kaggle/"
      ]
    },
    {
      "cell_type": "code",
      "execution_count": null,
      "metadata": {
        "id": "8ZJhZn3IEhzG"
      },
      "outputs": [],
      "source": [
        "! chmod 600 ~/.kaggle/kaggle.json"
      ]
    },
    {
      "cell_type": "code",
      "execution_count": null,
      "metadata": {
        "colab": {
          "base_uri": "https://localhost:8080/"
        },
        "id": "S1YWzQeYEwgU",
        "outputId": "725e5c26-4d62-43ef-d61a-616d387cfcfc"
      },
      "outputs": [
        {
          "output_type": "stream",
          "name": "stdout",
          "text": [
            "ref                                                     title                                           size  lastUpdated          downloadCount  voteCount  usabilityRating  \n",
            "------------------------------------------------------  ---------------------------------------------  -----  -------------------  -------------  ---------  ---------------  \n",
            "nelgiriyewithana/top-spotify-songs-2023                 Most Streamed Spotify Songs 2023                47KB  2023-08-26 11:04:57           5033        156  1.0              \n",
            "joebeachcapital/students-performance                    Students Performance                             2KB  2023-08-31 00:50:11           1367         35  1.0              \n",
            "nelgiriyewithana/global-youtube-statistics-2023         Global YouTube Statistics 2023                  60KB  2023-07-28 15:36:38          16024        534  1.0              \n",
            "iamsouravbanerjee/airline-dataset                       Airline Dataset                                  4MB  2023-08-30 12:03:12           2247         63  1.0              \n",
            "alitaqi000/world-university-rankings-2023               World University Rankings 2023                  70KB  2023-08-31 14:35:38           1329         40  1.0              \n",
            "mohammadtalib786/retail-sales-dataset                   Retail Sales Dataset                            11KB  2023-08-22 18:33:09           1881         45  1.0              \n",
            "uom190346a/water-quality-and-potability                 Water Quality and Potability                   251KB  2023-09-04 07:25:50            685         34  1.0              \n",
            "jjinho/wikipedia-20230701                               Wikipedia Plaintext (2023-07-01)                12GB  2023-07-17 01:43:57            927         70  1.0              \n",
            "jjinho/wikipedia-2023-07-faiss-index                    Wikipedia 2023 07 faiss index                    5GB  2023-07-17 01:57:37            455         34  1.0              \n",
            "alitaqi000/global-population-trends2016-2022            Global Population Trends(2016-2022)             32KB  2023-08-28 12:53:06           1071         24  1.0              \n",
            "nelgiriyewithana/global-weather-repository              World Weather Repository ( Daily Updating )    184KB  2023-09-09 23:01:33           1182         50  1.0              \n",
            "joebeachcapital/homicides                               Homicides                                        1MB  2023-08-30 00:08:57            718         30  1.0              \n",
            "inductiveanks/top-1000-imdb-movies-dataset              Top 1000 IMDb Movies Dataset                    91KB  2023-08-05 05:39:34           2002         40  0.9411765        \n",
            "mabdullahsajid/tracking-global-co2-emissions-1990-2023  Tracking Global CO2 Emissions (1990-2023)       32KB  2023-09-05 13:16:01            475         26  1.0              \n",
            "uom190346a/emoji-presentation-dataset                   Emoji Presentation Dataset                      52KB  2023-09-07 04:33:27            323         23  1.0              \n",
            "jocelyndumlao/global-food-prices                        Global - Food Prices                           222KB  2023-08-29 06:35:55            863         33  1.0              \n",
            "sooyoungher/smoking-drinking-dataset                    Smoking and Drinking Dataset with body signal   27MB  2023-08-30 04:27:31           1067         44  1.0              \n",
            "abdurrahman22224/smartphone-new-data                    Smartphone Models Dataset                       23KB  2023-08-26 06:50:37            735         30  1.0              \n",
            "khalidalam980/top-rated-movies-data-set                 Top Rated Movies Data Set                        1MB  2023-08-19 12:29:40           1054         34  1.0              \n",
            "nikhil1e9/comic-characters                              DC-MARVEL Comic Characters                     394KB  2023-08-27 15:19:48            475         22  1.0              \n"
          ]
        }
      ],
      "source": [
        "! kaggle datasets list"
      ]
    },
    {
      "cell_type": "code",
      "execution_count": null,
      "metadata": {
        "colab": {
          "base_uri": "https://localhost:8080/"
        },
        "id": "OwwZAD9HE6Nn",
        "outputId": "2af7f323-4f10-473b-8252-43df4be57352"
      },
      "outputs": [
        {
          "output_type": "stream",
          "name": "stdout",
          "text": [
            "Downloading accident-detection-from-cctv-footage.zip to /content\n",
            " 93% 233M/249M [00:02<00:00, 104MB/s] \n",
            "100% 249M/249M [00:02<00:00, 110MB/s]\n"
          ]
        }
      ],
      "source": [
        "! kaggle datasets download -d ckay16/accident-detection-from-cctv-footage"
      ]
    },
    {
      "cell_type": "code",
      "execution_count": null,
      "metadata": {
        "colab": {
          "base_uri": "https://localhost:8080/"
        },
        "id": "Rs10Qt_AFDxp",
        "outputId": "30bac9f8-807c-4e48-ab81-bd39833a6aa7"
      },
      "outputs": [
        {
          "output_type": "stream",
          "name": "stdout",
          "text": [
            "Archive:  accident-detection-from-cctv-footage.zip\n",
            "  inflating: data/test/Accident/acc1 (7).jpg  \n",
            "  inflating: data/test/Accident/test10_33.jpg  \n",
            "  inflating: data/test/Accident/test10_56.jpg  \n",
            "  inflating: data/test/Accident/test10_61.jpg  \n",
            "  inflating: data/test/Accident/test12_13.jpg  \n",
            "  inflating: data/test/Accident/test12_16.jpg  \n",
            "  inflating: data/test/Accident/test13_22.jpg  \n",
            "  inflating: data/test/Accident/test15_15.jpg  \n",
            "  inflating: data/test/Accident/test18_22.jpg  \n",
            "  inflating: data/test/Accident/test18_24.jpg  \n",
            "  inflating: data/test/Accident/test19_26.jpg  \n",
            "  inflating: data/test/Accident/test1_18.jpg  \n",
            "  inflating: data/test/Accident/test1_20.jpg  \n",
            "  inflating: data/test/Accident/test1_24.jpg  \n",
            "  inflating: data/test/Accident/test1_26.jpg  \n",
            "  inflating: data/test/Accident/test1_27.jpg  \n",
            "  inflating: data/test/Accident/test21_10.jpg  \n",
            "  inflating: data/test/Accident/test21_14.jpg  \n",
            "  inflating: data/test/Accident/test21_18.jpg  \n",
            "  inflating: data/test/Accident/test21_20.jpg  \n",
            "  inflating: data/test/Accident/test22_23.jpg  \n",
            "  inflating: data/test/Accident/test23_19.jpg  \n",
            "  inflating: data/test/Accident/test24_30.jpg  \n",
            "  inflating: data/test/Accident/test25_24.jpg  \n",
            "  inflating: data/test/Accident/test26_23.jpg  \n",
            "  inflating: data/test/Accident/test26_30.jpg  \n",
            "  inflating: data/test/Accident/test27_13.jpg  \n",
            "  inflating: data/test/Accident/test27_25.jpg  \n",
            "  inflating: data/test/Accident/test27_34.jpg  \n",
            "  inflating: data/test/Accident/test28_20.jpg  \n",
            "  inflating: data/test/Accident/test28_23.jpg  \n",
            "  inflating: data/test/Accident/test28_26.jpg  \n",
            "  inflating: data/test/Accident/test2_1.jpg  \n",
            "  inflating: data/test/Accident/test2_10.jpg  \n",
            "  inflating: data/test/Accident/test2_16.jpg  \n",
            "  inflating: data/test/Accident/test2_4.jpg  \n",
            "  inflating: data/test/Accident/test2_7.jpg  \n",
            "  inflating: data/test/Accident/test30_8.jpg  \n",
            "  inflating: data/test/Accident/test3_32.jpg  \n",
            "  inflating: data/test/Accident/test4_37.jpg  \n",
            "  inflating: data/test/Accident/test4_40.jpg  \n",
            "  inflating: data/test/Accident/test4_42.jpg  \n",
            "  inflating: data/test/Accident/test4_43.jpg  \n",
            "  inflating: data/test/Accident/test5_12.jpg  \n",
            "  inflating: data/test/Accident/test5_14.jpg  \n",
            "  inflating: data/test/Accident/test7_25.jpg  \n",
            "  inflating: data/test/Accident/test_33.jpg  \n",
            "  inflating: data/test/Non Accident/5_23.jpg  \n",
            "  inflating: data/test/Non Accident/Pictures - Shortcut.lnk  \n",
            "  inflating: data/test/Non Accident/test10_5.jpg  \n",
            "  inflating: data/test/Non Accident/test11_12.jpg  \n",
            "  inflating: data/test/Non Accident/test11_14.jpg  \n",
            "  inflating: data/test/Non Accident/test11_6.jpg  \n",
            "  inflating: data/test/Non Accident/test12_1.jpg  \n",
            "  inflating: data/test/Non Accident/test14_2.jpg  \n",
            "  inflating: data/test/Non Accident/test15_20.jpg  \n",
            "  inflating: data/test/Non Accident/test15_29.jpg  \n",
            "  inflating: data/test/Non Accident/test16_4.jpg  \n",
            "  inflating: data/test/Non Accident/test17_12.jpg  \n",
            "  inflating: data/test/Non Accident/test18_15.jpg  \n",
            "  inflating: data/test/Non Accident/test18_5.jpg  \n",
            "  inflating: data/test/Non Accident/test19_15.jpg  \n",
            "  inflating: data/test/Non Accident/test1_8.jpg  \n",
            "  inflating: data/test/Non Accident/test1_9.jpg  \n",
            "  inflating: data/test/Non Accident/test22_3.jpg  \n",
            "  inflating: data/test/Non Accident/test22_4.jpg  \n",
            "  inflating: data/test/Non Accident/test25_1.jpg  \n",
            "  inflating: data/test/Non Accident/test25_21.jpg  \n",
            "  inflating: data/test/Non Accident/test26_5.jpg  \n",
            "  inflating: data/test/Non Accident/test27_5.jpg  \n",
            "  inflating: data/test/Non Accident/test28_1.jpg  \n",
            "  inflating: data/test/Non Accident/test28_10.jpg  \n",
            "  inflating: data/test/Non Accident/test28_3.jpg  \n",
            "  inflating: data/test/Non Accident/test28_4.jpg  \n",
            "  inflating: data/test/Non Accident/test28_5.jpg  \n",
            "  inflating: data/test/Non Accident/test28_6.jpg  \n",
            "  inflating: data/test/Non Accident/test29_19.jpg  \n",
            "  inflating: data/test/Non Accident/test29_3.jpg  \n",
            "  inflating: data/test/Non Accident/test29_6.jpg  \n",
            "  inflating: data/test/Non Accident/test29_7.jpg  \n",
            "  inflating: data/test/Non Accident/test3_12.jpg  \n",
            "  inflating: data/test/Non Accident/test3_18.jpg  \n",
            "  inflating: data/test/Non Accident/test3_21.jpg  \n",
            "  inflating: data/test/Non Accident/test3_40.jpg  \n",
            "  inflating: data/test/Non Accident/test4_10.jpg  \n",
            "  inflating: data/test/Non Accident/test4_11.jpg  \n",
            "  inflating: data/test/Non Accident/test4_28.jpg  \n",
            "  inflating: data/test/Non Accident/test4_4.jpg  \n",
            "  inflating: data/test/Non Accident/test4_53.jpg  \n",
            "  inflating: data/test/Non Accident/test4_6.jpg  \n",
            "  inflating: data/test/Non Accident/test4_60.jpg  \n",
            "  inflating: data/test/Non Accident/test4_9.jpg  \n",
            "  inflating: data/test/Non Accident/test7_10.jpg  \n",
            "  inflating: data/test/Non Accident/test7_22.jpg  \n",
            "  inflating: data/test/Non Accident/test7_38.jpg  \n",
            "  inflating: data/test/Non Accident/test7_39.jpg  \n",
            "  inflating: data/test/Non Accident/test8_11.jpg  \n",
            "  inflating: data/test/Non Accident/test8_22.jpg  \n",
            "  inflating: data/test/Non Accident/test8_3.jpg  \n",
            "  inflating: data/test/Non Accident/test9_20.jpg  \n",
            "  inflating: data/test/Non Accident/test_2.jpg  \n",
            "  inflating: data/train/Accident/acc1 (1).jpg  \n",
            "  inflating: data/train/Accident/acc1 (13).jpg  \n",
            "  inflating: data/train/Accident/acc1 (14).jpg  \n",
            "  inflating: data/train/Accident/acc1 (15).jpg  \n",
            "  inflating: data/train/Accident/acc1 (2).jpg  \n",
            "  inflating: data/train/Accident/acc1 (3).jpg  \n",
            "  inflating: data/train/Accident/acc1 (5).jpg  \n",
            "  inflating: data/train/Accident/test10_10.jpg  \n",
            "  inflating: data/train/Accident/test10_11.jpg  \n",
            "  inflating: data/train/Accident/test10_12.jpg  \n",
            "  inflating: data/train/Accident/test10_13.jpg  \n",
            "  inflating: data/train/Accident/test10_14.jpg  \n",
            "  inflating: data/train/Accident/test10_15.jpg  \n",
            "  inflating: data/train/Accident/test10_16.jpg  \n",
            "  inflating: data/train/Accident/test10_17.jpg  \n",
            "  inflating: data/train/Accident/test10_18.jpg  \n",
            "  inflating: data/train/Accident/test10_19.jpg  \n",
            "  inflating: data/train/Accident/test10_20.jpg  \n",
            "  inflating: data/train/Accident/test10_21.jpg  \n",
            "  inflating: data/train/Accident/test10_24.jpg  \n",
            "  inflating: data/train/Accident/test10_25.jpg  \n",
            "  inflating: data/train/Accident/test10_26.jpg  \n",
            "  inflating: data/train/Accident/test10_28.jpg  \n",
            "  inflating: data/train/Accident/test10_29.jpg  \n",
            "  inflating: data/train/Accident/test10_30.jpg  \n",
            "  inflating: data/train/Accident/test10_31.jpg  \n",
            "  inflating: data/train/Accident/test10_32.jpg  \n",
            "  inflating: data/train/Accident/test10_35.jpg  \n",
            "  inflating: data/train/Accident/test10_37.jpg  \n",
            "  inflating: data/train/Accident/test10_38.jpg  \n",
            "  inflating: data/train/Accident/test10_39.jpg  \n",
            "  inflating: data/train/Accident/test10_40.jpg  \n",
            "  inflating: data/train/Accident/test10_41.jpg  \n",
            "  inflating: data/train/Accident/test10_42.jpg  \n",
            "  inflating: data/train/Accident/test10_43.jpg  \n",
            "  inflating: data/train/Accident/test10_44.jpg  \n",
            "  inflating: data/train/Accident/test10_45.jpg  \n",
            "  inflating: data/train/Accident/test10_47.jpg  \n",
            "  inflating: data/train/Accident/test10_48.jpg  \n",
            "  inflating: data/train/Accident/test10_49.jpg  \n",
            "  inflating: data/train/Accident/test10_50.jpg  \n",
            "  inflating: data/train/Accident/test10_51.jpg  \n",
            "  inflating: data/train/Accident/test10_52.jpg  \n",
            "  inflating: data/train/Accident/test10_53.jpg  \n",
            "  inflating: data/train/Accident/test10_55.jpg  \n",
            "  inflating: data/train/Accident/test10_57.jpg  \n",
            "  inflating: data/train/Accident/test10_58.jpg  \n",
            "  inflating: data/train/Accident/test10_59.jpg  \n",
            "  inflating: data/train/Accident/test10_60.jpg  \n",
            "  inflating: data/train/Accident/test10_9.jpg  \n",
            "  inflating: data/train/Accident/test11_17.jpg  \n",
            "  inflating: data/train/Accident/test11_18.jpg  \n",
            "  inflating: data/train/Accident/test11_19.jpg  \n",
            "  inflating: data/train/Accident/test11_20.jpg  \n",
            "  inflating: data/train/Accident/test11_21.jpg  \n",
            "  inflating: data/train/Accident/test11_22.jpg  \n",
            "  inflating: data/train/Accident/test11_23.jpg  \n",
            "  inflating: data/train/Accident/test11_24.jpg  \n",
            "  inflating: data/train/Accident/test11_25.jpg  \n",
            "  inflating: data/train/Accident/test11_26.jpg  \n",
            "  inflating: data/train/Accident/test11_27.jpg  \n",
            "  inflating: data/train/Accident/test11_28.jpg  \n",
            "  inflating: data/train/Accident/test11_29.jpg  \n",
            "  inflating: data/train/Accident/test11_30.jpg  \n",
            "  inflating: data/train/Accident/test11_31.jpg  \n",
            "  inflating: data/train/Accident/test11_32.jpg  \n",
            "  inflating: data/train/Accident/test11_33.jpg  \n",
            "  inflating: data/train/Accident/test11_34.jpg  \n",
            "  inflating: data/train/Accident/test11_35.jpg  \n",
            "  inflating: data/train/Accident/test11_36.jpg  \n",
            "  inflating: data/train/Accident/test11_37.jpg  \n",
            "  inflating: data/train/Accident/test12_12.jpg  \n",
            "  inflating: data/train/Accident/test12_14.jpg  \n",
            "  inflating: data/train/Accident/test12_15.jpg  \n",
            "  inflating: data/train/Accident/test12_17.jpg  \n",
            "  inflating: data/train/Accident/test12_18.jpg  \n",
            "  inflating: data/train/Accident/test12_19.jpg  \n",
            "  inflating: data/train/Accident/test13_1.jpg  \n",
            "  inflating: data/train/Accident/test13_10.jpg  \n",
            "  inflating: data/train/Accident/test13_11.jpg  \n",
            "  inflating: data/train/Accident/test13_12.jpg  \n",
            "  inflating: data/train/Accident/test13_13.jpg  \n",
            "  inflating: data/train/Accident/test13_14.jpg  \n",
            "  inflating: data/train/Accident/test13_15.jpg  \n",
            "  inflating: data/train/Accident/test13_16.jpg  \n",
            "  inflating: data/train/Accident/test13_17.jpg  \n",
            "  inflating: data/train/Accident/test13_19.jpg  \n",
            "  inflating: data/train/Accident/test13_21.jpg  \n",
            "  inflating: data/train/Accident/test13_23.jpg  \n",
            "  inflating: data/train/Accident/test13_24.jpg  \n",
            "  inflating: data/train/Accident/test13_25.jpg  \n",
            "  inflating: data/train/Accident/test14_10.jpg  \n",
            "  inflating: data/train/Accident/test14_12.jpg  \n",
            "  inflating: data/train/Accident/test14_13.jpg  \n",
            "  inflating: data/train/Accident/test14_14.jpg  \n",
            "  inflating: data/train/Accident/test14_15.jpg  \n",
            "  inflating: data/train/Accident/test14_16.jpg  \n",
            "  inflating: data/train/Accident/test14_17.jpg  \n",
            "  inflating: data/train/Accident/test14_18.jpg  \n",
            "  inflating: data/train/Accident/test14_20.jpg  \n",
            "  inflating: data/train/Accident/test14_21.jpg  \n",
            "  inflating: data/train/Accident/test14_9.jpg  \n",
            "  inflating: data/train/Accident/test15_10.jpg  \n",
            "  inflating: data/train/Accident/test15_11.jpg  \n",
            "  inflating: data/train/Accident/test15_12.jpg  \n",
            "  inflating: data/train/Accident/test15_13.jpg  \n",
            "  inflating: data/train/Accident/test15_14.jpg  \n",
            "  inflating: data/train/Accident/test15_16.jpg  \n",
            "  inflating: data/train/Accident/test15_2.jpg  \n",
            "  inflating: data/train/Accident/test15_3.jpg  \n",
            "  inflating: data/train/Accident/test15_4.jpg  \n",
            "  inflating: data/train/Accident/test15_5.jpg  \n",
            "  inflating: data/train/Accident/test15_6.jpg  \n",
            "  inflating: data/train/Accident/test15_7.jpg  \n",
            "  inflating: data/train/Accident/test15_8.jpg  \n",
            "  inflating: data/train/Accident/test16_19.jpg  \n",
            "  inflating: data/train/Accident/test16_20.jpg  \n",
            "  inflating: data/train/Accident/test16_21.jpg  \n",
            "  inflating: data/train/Accident/test16_22.jpg  \n",
            "  inflating: data/train/Accident/test16_23.jpg  \n",
            "  inflating: data/train/Accident/test16_24.jpg  \n",
            "  inflating: data/train/Accident/test16_25.jpg  \n",
            "  inflating: data/train/Accident/test16_26.jpg  \n",
            "  inflating: data/train/Accident/test16_27.jpg  \n",
            "  inflating: data/train/Accident/test16_29.jpg  \n",
            "  inflating: data/train/Accident/test16_30.jpg  \n",
            "  inflating: data/train/Accident/test17_15.jpg  \n",
            "  inflating: data/train/Accident/test17_16.jpg  \n",
            "  inflating: data/train/Accident/test17_17.jpg  \n",
            "  inflating: data/train/Accident/test17_18.jpg  \n",
            "  inflating: data/train/Accident/test17_19.jpg  \n",
            "  inflating: data/train/Accident/test17_20.jpg  \n",
            "  inflating: data/train/Accident/test17_21.jpg  \n",
            "  inflating: data/train/Accident/test17_22.jpg  \n",
            "  inflating: data/train/Accident/test18_21.jpg  \n",
            "  inflating: data/train/Accident/test18_23.jpg  \n",
            "  inflating: data/train/Accident/test18_26.jpg  \n",
            "  inflating: data/train/Accident/test18_27.jpg  \n",
            "  inflating: data/train/Accident/test18_28.jpg  \n",
            "  inflating: data/train/Accident/test18_29.jpg  \n",
            "  inflating: data/train/Accident/test18_30.jpg  \n",
            "  inflating: data/train/Accident/test19_22.jpg  \n",
            "  inflating: data/train/Accident/test19_23.jpg  \n",
            "  inflating: data/train/Accident/test19_24.jpg  \n",
            "  inflating: data/train/Accident/test19_25.jpg  \n",
            "  inflating: data/train/Accident/test19_27.jpg  \n",
            "  inflating: data/train/Accident/test19_28.jpg  \n",
            "  inflating: data/train/Accident/test19_29.jpg  \n",
            "  inflating: data/train/Accident/test19_30.jpg  \n",
            "  inflating: data/train/Accident/test19_31.jpg  \n",
            "  inflating: data/train/Accident/test1_16.jpg  \n",
            "  inflating: data/train/Accident/test1_17.jpg  \n",
            "  inflating: data/train/Accident/test1_19.jpg  \n",
            "  inflating: data/train/Accident/test1_21.jpg  \n",
            "  inflating: data/train/Accident/test1_22.jpg  \n",
            "  inflating: data/train/Accident/test1_23.jpg  \n",
            "  inflating: data/train/Accident/test1_25.jpg  \n",
            "  inflating: data/train/Accident/test1_28.jpg  \n",
            "  inflating: data/train/Accident/test1_29.jpg  \n",
            "  inflating: data/train/Accident/test1_30.jpg  \n",
            "  inflating: data/train/Accident/test20_15.jpg  \n",
            "  inflating: data/train/Accident/test20_16.jpg  \n",
            "  inflating: data/train/Accident/test20_17.jpg  \n",
            "  inflating: data/train/Accident/test20_18.jpg  \n",
            "  inflating: data/train/Accident/test20_19.jpg  \n",
            "  inflating: data/train/Accident/test21_11.jpg  \n",
            "  inflating: data/train/Accident/test21_12.jpg  \n",
            "  inflating: data/train/Accident/test21_13.jpg  \n",
            "  inflating: data/train/Accident/test21_15.jpg  \n",
            "  inflating: data/train/Accident/test21_16.jpg  \n",
            "  inflating: data/train/Accident/test21_17.jpg  \n",
            "  inflating: data/train/Accident/test21_19.jpg  \n",
            "  inflating: data/train/Accident/test21_21.jpg  \n",
            "  inflating: data/train/Accident/test21_23.jpg  \n",
            "  inflating: data/train/Accident/test21_24.jpg  \n",
            "  inflating: data/train/Accident/test21_25.jpg  \n",
            "  inflating: data/train/Accident/test21_26.jpg  \n",
            "  inflating: data/train/Accident/test21_27.jpg  \n",
            "  inflating: data/train/Accident/test22_20.jpg  \n",
            "  inflating: data/train/Accident/test22_21.jpg  \n",
            "  inflating: data/train/Accident/test22_22.jpg  \n",
            "  inflating: data/train/Accident/test22_24.jpg  \n",
            "  inflating: data/train/Accident/test22_25.jpg  \n",
            "  inflating: data/train/Accident/test22_26.jpg  \n",
            "  inflating: data/train/Accident/test22_28.jpg  \n",
            "  inflating: data/train/Accident/test22_29.jpg  \n",
            "  inflating: data/train/Accident/test22_30.jpg  \n",
            "  inflating: data/train/Accident/test22_31.jpg  \n",
            "  inflating: data/train/Accident/test23_10.jpg  \n",
            "  inflating: data/train/Accident/test23_11.jpg  \n",
            "  inflating: data/train/Accident/test23_12.jpg  \n",
            "  inflating: data/train/Accident/test23_13.jpg  \n",
            "  inflating: data/train/Accident/test23_14.jpg  \n",
            "  inflating: data/train/Accident/test23_16.jpg  \n",
            "  inflating: data/train/Accident/test23_17.jpg  \n",
            "  inflating: data/train/Accident/test23_20.jpg  \n",
            "  inflating: data/train/Accident/test23_21.jpg  \n",
            "  inflating: data/train/Accident/test23_22.jpg  \n",
            "  inflating: data/train/Accident/test23_23.jpg  \n",
            "  inflating: data/train/Accident/test23_24.jpg  \n",
            "  inflating: data/train/Accident/test23_25.jpg  \n",
            "  inflating: data/train/Accident/test23_26.jpg  \n",
            "  inflating: data/train/Accident/test23_27.jpg  \n",
            "  inflating: data/train/Accident/test23_28.jpg  \n",
            "  inflating: data/train/Accident/test23_29.jpg  \n",
            "  inflating: data/train/Accident/test23_30.jpg  \n",
            "  inflating: data/train/Accident/test23_31.jpg  \n",
            "  inflating: data/train/Accident/test23_9.jpg  \n",
            "  inflating: data/train/Accident/test24_21.jpg  \n",
            "  inflating: data/train/Accident/test24_22.jpg  \n",
            "  inflating: data/train/Accident/test24_23.jpg  \n",
            "  inflating: data/train/Accident/test24_24.jpg  \n",
            "  inflating: data/train/Accident/test24_25.jpg  \n",
            "  inflating: data/train/Accident/test24_26.jpg  \n",
            "  inflating: data/train/Accident/test24_27.jpg  \n",
            "  inflating: data/train/Accident/test24_28.jpg  \n",
            "  inflating: data/train/Accident/test24_29.jpg  \n",
            "  inflating: data/train/Accident/test24_31.jpg  \n",
            "  inflating: data/train/Accident/test24_32.jpg  \n",
            "  inflating: data/train/Accident/test24_33.jpg  \n",
            "  inflating: data/train/Accident/test24_34.jpg  \n",
            "  inflating: data/train/Accident/test24_35.jpg  \n",
            "  inflating: data/train/Accident/test24_36.jpg  \n",
            "  inflating: data/train/Accident/test24_37.jpg  \n",
            "  inflating: data/train/Accident/test24_38.jpg  \n",
            "  inflating: data/train/Accident/test24_39.jpg  \n",
            "  inflating: data/train/Accident/test24_40.jpg  \n",
            "  inflating: data/train/Accident/test24_42.jpg  \n",
            "  inflating: data/train/Accident/test24_43.jpg  \n",
            "  inflating: data/train/Accident/test25_23.jpg  \n",
            "  inflating: data/train/Accident/test25_25.jpg  \n",
            "  inflating: data/train/Accident/test25_26.jpg  \n",
            "  inflating: data/train/Accident/test25_27.jpg  \n",
            "  inflating: data/train/Accident/test25_28.jpg  \n",
            "  inflating: data/train/Accident/test25_29.jpg  \n",
            "  inflating: data/train/Accident/test25_30.jpg  \n",
            "  inflating: data/train/Accident/test26_13.jpg  \n",
            "  inflating: data/train/Accident/test26_14.jpg  \n",
            "  inflating: data/train/Accident/test26_16.jpg  \n",
            "  inflating: data/train/Accident/test26_17.jpg  \n",
            "  inflating: data/train/Accident/test26_18.jpg  \n",
            "  inflating: data/train/Accident/test26_19.jpg  \n",
            "  inflating: data/train/Accident/test26_20.jpg  \n",
            "  inflating: data/train/Accident/test26_21.jpg  \n",
            "  inflating: data/train/Accident/test26_24.jpg  \n",
            "  inflating: data/train/Accident/test26_25.jpg  \n",
            "  inflating: data/train/Accident/test26_27.jpg  \n",
            "  inflating: data/train/Accident/test26_28.jpg  \n",
            "  inflating: data/train/Accident/test26_29.jpg  \n",
            "  inflating: data/train/Accident/test26_31.jpg  \n",
            "  inflating: data/train/Accident/test27_10.jpg  \n",
            "  inflating: data/train/Accident/test27_11.jpg  \n",
            "  inflating: data/train/Accident/test27_12.jpg  \n",
            "  inflating: data/train/Accident/test27_14.jpg  \n",
            "  inflating: data/train/Accident/test27_15.jpg  \n",
            "  inflating: data/train/Accident/test27_16.jpg  \n",
            "  inflating: data/train/Accident/test27_19.jpg  \n",
            "  inflating: data/train/Accident/test27_20.jpg  \n",
            "  inflating: data/train/Accident/test27_22.jpg  \n",
            "  inflating: data/train/Accident/test27_23.jpg  \n",
            "  inflating: data/train/Accident/test27_24.jpg  \n",
            "  inflating: data/train/Accident/test27_27.jpg  \n",
            "  inflating: data/train/Accident/test27_28.jpg  \n",
            "  inflating: data/train/Accident/test27_29.jpg  \n",
            "  inflating: data/train/Accident/test27_30.jpg  \n",
            "  inflating: data/train/Accident/test27_31.jpg  \n",
            "  inflating: data/train/Accident/test27_32.jpg  \n",
            "  inflating: data/train/Accident/test27_33.jpg  \n",
            "  inflating: data/train/Accident/test27_36.jpg  \n",
            "  inflating: data/train/Accident/test27_7.jpg  \n",
            "  inflating: data/train/Accident/test27_8.jpg  \n",
            "  inflating: data/train/Accident/test28_15.jpg  \n",
            "  inflating: data/train/Accident/test28_16.jpg  \n",
            "  inflating: data/train/Accident/test28_17.jpg  \n",
            "  inflating: data/train/Accident/test28_19.jpg  \n",
            "  inflating: data/train/Accident/test28_21.jpg  \n",
            "  inflating: data/train/Accident/test28_22.jpg  \n",
            "  inflating: data/train/Accident/test28_24.jpg  \n",
            "  inflating: data/train/Accident/test28_25.jpg  \n",
            "  inflating: data/train/Accident/test28_27.jpg  \n",
            "  inflating: data/train/Accident/test28_28.jpg  \n",
            "  inflating: data/train/Accident/test28_30.jpg  \n",
            "  inflating: data/train/Accident/test29_10.jpg  \n",
            "  inflating: data/train/Accident/test29_11.jpg  \n",
            "  inflating: data/train/Accident/test29_12.jpg  \n",
            "  inflating: data/train/Accident/test29_13.jpg  \n",
            "  inflating: data/train/Accident/test29_14.jpg  \n",
            "  inflating: data/train/Accident/test29_8.jpg  \n",
            "  inflating: data/train/Accident/test29_9.jpg  \n",
            "  inflating: data/train/Accident/test2_11.jpg  \n",
            "  inflating: data/train/Accident/test2_12.jpg  \n",
            "  inflating: data/train/Accident/test2_13.jpg  \n",
            "  inflating: data/train/Accident/test2_14.jpg  \n",
            "  inflating: data/train/Accident/test2_15.jpg  \n",
            "  inflating: data/train/Accident/test2_17.jpg  \n",
            "  inflating: data/train/Accident/test2_18.jpg  \n",
            "  inflating: data/train/Accident/test2_19.jpg  \n",
            "  inflating: data/train/Accident/test2_2.jpg  \n",
            "  inflating: data/train/Accident/test2_20.jpg  \n",
            "  inflating: data/train/Accident/test2_21.jpg  \n",
            "  inflating: data/train/Accident/test2_22.jpg  \n",
            "  inflating: data/train/Accident/test2_24.jpg  \n",
            "  inflating: data/train/Accident/test2_25.jpg  \n",
            "  inflating: data/train/Accident/test2_5.jpg  \n",
            "  inflating: data/train/Accident/test2_6.jpg  \n",
            "  inflating: data/train/Accident/test2_8.jpg  \n",
            "  inflating: data/train/Accident/test2_9.jpg  \n",
            "  inflating: data/train/Accident/test30_10.jpg  \n",
            "  inflating: data/train/Accident/test30_11.jpg  \n",
            "  inflating: data/train/Accident/test30_12.jpg  \n",
            "  inflating: data/train/Accident/test30_16.jpg  \n",
            "  inflating: data/train/Accident/test30_17.jpg  \n",
            "  inflating: data/train/Accident/test30_18.jpg  \n",
            "  inflating: data/train/Accident/test30_19.jpg  \n",
            "  inflating: data/train/Accident/test30_20.jpg  \n",
            "  inflating: data/train/Accident/test3_27.jpg  \n",
            "  inflating: data/train/Accident/test3_28.jpg  \n",
            "  inflating: data/train/Accident/test3_29.jpg  \n",
            "  inflating: data/train/Accident/test3_30.jpg  \n",
            "  inflating: data/train/Accident/test3_31.jpg  \n",
            "  inflating: data/train/Accident/test3_33.jpg  \n",
            "  inflating: data/train/Accident/test4_31.jpg  \n",
            "  inflating: data/train/Accident/test4_32.jpg  \n",
            "  inflating: data/train/Accident/test4_33.jpg  \n",
            "  inflating: data/train/Accident/test4_34.jpg  \n",
            "  inflating: data/train/Accident/test4_35.jpg  \n",
            "  inflating: data/train/Accident/test4_36.jpg  \n",
            "  inflating: data/train/Accident/test4_38.jpg  \n",
            "  inflating: data/train/Accident/test4_39.jpg  \n",
            "  inflating: data/train/Accident/test4_41.jpg  \n",
            "  inflating: data/train/Accident/test4_44.jpg  \n",
            "  inflating: data/train/Accident/test4_45.jpg  \n",
            "  inflating: data/train/Accident/test4_46.jpg  \n",
            "  inflating: data/train/Accident/test4_48.jpg  \n",
            "  inflating: data/train/Accident/test4_49.jpg  \n",
            "  inflating: data/train/Accident/test4_50.jpg  \n",
            "  inflating: data/train/Accident/test5_10.jpg  \n",
            "  inflating: data/train/Accident/test5_11.jpg  \n",
            "  inflating: data/train/Accident/test5_13.jpg  \n",
            "  inflating: data/train/Accident/test5_15.jpg  \n",
            "  inflating: data/train/Accident/test5_16.jpg  \n",
            "  inflating: data/train/Accident/test5_17.jpg  \n",
            "  inflating: data/train/Accident/test5_18.jpg  \n",
            "  inflating: data/train/Accident/test5_19.jpg  \n",
            "  inflating: data/train/Accident/test5_20.jpg  \n",
            "  inflating: data/train/Accident/test7_26.jpg  \n",
            "  inflating: data/train/Accident/test7_27.jpg  \n",
            "  inflating: data/train/Accident/test7_28.jpg  \n",
            "  inflating: data/train/Accident/test7_29.jpg  \n",
            "  inflating: data/train/Accident/test7_30.jpg  \n",
            "  inflating: data/train/Accident/test7_31.jpg  \n",
            "  inflating: data/train/Accident/test8_12.jpg  \n",
            "  inflating: data/train/Accident/test8_13.jpg  \n",
            "  inflating: data/train/Accident/test8_14.jpg  \n",
            "  inflating: data/train/Accident/test8_15.jpg  \n",
            "  inflating: data/train/Accident/test8_16.jpg  \n",
            "  inflating: data/train/Accident/test_27.jpg  \n",
            "  inflating: data/train/Accident/test_28.jpg  \n",
            "  inflating: data/train/Accident/test_29.jpg  \n",
            "  inflating: data/train/Accident/test_31.jpg  \n",
            "  inflating: data/train/Accident/test_32.jpg  \n",
            "  inflating: data/train/Accident/test_34.jpg  \n",
            "  inflating: data/train/Accident/test_36.jpg  \n",
            "  inflating: data/train/Accident/test_38.jpg  \n",
            "  inflating: data/train/Accident/test_39.jpg  \n",
            "  inflating: data/train/Accident/test_40.jpg  \n",
            "  inflating: data/train/Accident/test_42.jpg  \n",
            "  inflating: data/train/Accident/test_43.jpg  \n",
            "  inflating: data/train/Accident/test_44.jpg  \n",
            "  inflating: data/train/Non Accident/5_10.jpg  \n",
            "  inflating: data/train/Non Accident/5_11.jpg  \n",
            "  inflating: data/train/Non Accident/5_12.jpg  \n",
            "  inflating: data/train/Non Accident/5_13.jpg  \n",
            "  inflating: data/train/Non Accident/5_14.jpg  \n",
            "  inflating: data/train/Non Accident/5_15.jpg  \n",
            "  inflating: data/train/Non Accident/5_17.jpg  \n",
            "  inflating: data/train/Non Accident/5_24.jpg  \n",
            "  inflating: data/train/Non Accident/5_25.jpg  \n",
            "  inflating: data/train/Non Accident/5_27.jpg  \n",
            "  inflating: data/train/Non Accident/5_28.jpg  \n",
            "  inflating: data/train/Non Accident/5_29.jpg  \n",
            "  inflating: data/train/Non Accident/5_30.jpg  \n",
            "  inflating: data/train/Non Accident/5_5.jpg  \n",
            "  inflating: data/train/Non Accident/5_6.jpg  \n",
            "  inflating: data/train/Non Accident/5_7.jpg  \n",
            "  inflating: data/train/Non Accident/5_8.jpg  \n",
            "  inflating: data/train/Non Accident/5_9.jpg  \n",
            "  inflating: data/train/Non Accident/test10_2.jpg  \n",
            "  inflating: data/train/Non Accident/test10_4.jpg  \n",
            "  inflating: data/train/Non Accident/test10_6.jpg  \n",
            "  inflating: data/train/Non Accident/test10_7.jpg  \n",
            "  inflating: data/train/Non Accident/test10_8.jpg  \n",
            "  inflating: data/train/Non Accident/test11_1.jpg  \n",
            "  inflating: data/train/Non Accident/test11_10.jpg  \n",
            "  inflating: data/train/Non Accident/test11_11.jpg  \n",
            "  inflating: data/train/Non Accident/test11_13.jpg  \n",
            "  inflating: data/train/Non Accident/test11_15.jpg  \n",
            "  inflating: data/train/Non Accident/test11_16.jpg  \n",
            "  inflating: data/train/Non Accident/test11_2.jpg  \n",
            "  inflating: data/train/Non Accident/test11_3.jpg  \n",
            "  inflating: data/train/Non Accident/test11_38.jpg  \n",
            "  inflating: data/train/Non Accident/test11_39.jpg  \n",
            "  inflating: data/train/Non Accident/test11_4.jpg  \n",
            "  inflating: data/train/Non Accident/test11_40.jpg  \n",
            "  inflating: data/train/Non Accident/test11_41.jpg  \n",
            "  inflating: data/train/Non Accident/test11_42.jpg  \n",
            "  inflating: data/train/Non Accident/test11_43.jpg  \n",
            "  inflating: data/train/Non Accident/test11_44.jpg  \n",
            "  inflating: data/train/Non Accident/test11_45.jpg  \n",
            "  inflating: data/train/Non Accident/test11_46.jpg  \n",
            "  inflating: data/train/Non Accident/test11_47.jpg  \n",
            "  inflating: data/train/Non Accident/test11_48.jpg  \n",
            "  inflating: data/train/Non Accident/test11_5.jpg  \n",
            "  inflating: data/train/Non Accident/test11_50.jpg  \n",
            "  inflating: data/train/Non Accident/test11_56.jpg  \n",
            "  inflating: data/train/Non Accident/test11_57.jpg  \n",
            "  inflating: data/train/Non Accident/test11_58.jpg  \n",
            "  inflating: data/train/Non Accident/test11_59.jpg  \n",
            "  inflating: data/train/Non Accident/test11_60.jpg  \n",
            "  inflating: data/train/Non Accident/test11_61.jpg  \n",
            "  inflating: data/train/Non Accident/test11_7.jpg  \n",
            "  inflating: data/train/Non Accident/test11_8.jpg  \n",
            "  inflating: data/train/Non Accident/test11_9.jpg  \n",
            "  inflating: data/train/Non Accident/test12_10.jpg  \n",
            "  inflating: data/train/Non Accident/test12_11.jpg  \n",
            "  inflating: data/train/Non Accident/test12_2.jpg  \n",
            "  inflating: data/train/Non Accident/test12_8.jpg  \n",
            "  inflating: data/train/Non Accident/test12_9.jpg  \n",
            "  inflating: data/train/Non Accident/test13_2.jpg  \n",
            "  inflating: data/train/Non Accident/test13_26.jpg  \n",
            "  inflating: data/train/Non Accident/test13_27.jpg  \n",
            "  inflating: data/train/Non Accident/test13_28.jpg  \n",
            "  inflating: data/train/Non Accident/test13_29.jpg  \n",
            "  inflating: data/train/Non Accident/test13_3.jpg  \n",
            "  inflating: data/train/Non Accident/test13_30.jpg  \n",
            "  inflating: data/train/Non Accident/test13_31.jpg  \n",
            "  inflating: data/train/Non Accident/test13_4.jpg  \n",
            "  inflating: data/train/Non Accident/test13_5.jpg  \n",
            "  inflating: data/train/Non Accident/test13_6.jpg  \n",
            "  inflating: data/train/Non Accident/test13_7.jpg  \n",
            "  inflating: data/train/Non Accident/test13_8.jpg  \n",
            "  inflating: data/train/Non Accident/test13_9.jpg  \n",
            "  inflating: data/train/Non Accident/test14_1.jpg  \n",
            "  inflating: data/train/Non Accident/test14_22.jpg  \n",
            "  inflating: data/train/Non Accident/test14_23.jpg  \n",
            "  inflating: data/train/Non Accident/test14_24.jpg  \n",
            "  inflating: data/train/Non Accident/test14_25.jpg  \n",
            "  inflating: data/train/Non Accident/test14_4.jpg  \n",
            "  inflating: data/train/Non Accident/test14_6.jpg  \n",
            "  inflating: data/train/Non Accident/test14_7.jpg  \n",
            "  inflating: data/train/Non Accident/test14_8.jpg  \n",
            "  inflating: data/train/Non Accident/test15_1.jpg  \n",
            "  inflating: data/train/Non Accident/test15_17.jpg  \n",
            "  inflating: data/train/Non Accident/test15_19.jpg  \n",
            "  inflating: data/train/Non Accident/test15_21.jpg  \n",
            "  inflating: data/train/Non Accident/test15_22.jpg  \n",
            "  inflating: data/train/Non Accident/test15_23.jpg  \n",
            "  inflating: data/train/Non Accident/test15_24.jpg  \n",
            "  inflating: data/train/Non Accident/test15_25.jpg  \n",
            "  inflating: data/train/Non Accident/test15_26.jpg  \n",
            "  inflating: data/train/Non Accident/test15_28.jpg  \n",
            "  inflating: data/train/Non Accident/test15_30.jpg  \n",
            "  inflating: data/train/Non Accident/test15_31.jpg  \n",
            "  inflating: data/train/Non Accident/test16_1.jpg  \n",
            "  inflating: data/train/Non Accident/test16_10.jpg  \n",
            "  inflating: data/train/Non Accident/test16_11.jpg  \n",
            "  inflating: data/train/Non Accident/test16_13.jpg  \n",
            "  inflating: data/train/Non Accident/test16_14.jpg  \n",
            "  inflating: data/train/Non Accident/test16_15.jpg  \n",
            "  inflating: data/train/Non Accident/test16_16.jpg  \n",
            "  inflating: data/train/Non Accident/test16_17.jpg  \n",
            "  inflating: data/train/Non Accident/test16_18.jpg  \n",
            "  inflating: data/train/Non Accident/test16_2.jpg  \n",
            "  inflating: data/train/Non Accident/test16_3.jpg  \n",
            "  inflating: data/train/Non Accident/test16_5.jpg  \n",
            "  inflating: data/train/Non Accident/test16_6.jpg  \n",
            "  inflating: data/train/Non Accident/test16_7.jpg  \n",
            "  inflating: data/train/Non Accident/test16_8.jpg  \n",
            "  inflating: data/train/Non Accident/test16_9.jpg  \n",
            "  inflating: data/train/Non Accident/test17_1.jpg  \n",
            "  inflating: data/train/Non Accident/test17_10.jpg  \n",
            "  inflating: data/train/Non Accident/test17_11.jpg  \n",
            "  inflating: data/train/Non Accident/test17_13.jpg  \n",
            "  inflating: data/train/Non Accident/test17_14.jpg  \n",
            "  inflating: data/train/Non Accident/test17_2.jpg  \n",
            "  inflating: data/train/Non Accident/test17_23.jpg  \n",
            "  inflating: data/train/Non Accident/test17_24.jpg  \n",
            "  inflating: data/train/Non Accident/test17_25.jpg  \n",
            "  inflating: data/train/Non Accident/test17_26.jpg  \n",
            "  inflating: data/train/Non Accident/test17_27.jpg  \n",
            "  inflating: data/train/Non Accident/test17_28.jpg  \n",
            "  inflating: data/train/Non Accident/test17_3.jpg  \n",
            "  inflating: data/train/Non Accident/test17_30.jpg  \n",
            "  inflating: data/train/Non Accident/test17_4.jpg  \n",
            "  inflating: data/train/Non Accident/test17_5.jpg  \n",
            "  inflating: data/train/Non Accident/test17_6.jpg  \n",
            "  inflating: data/train/Non Accident/test17_7.jpg  \n",
            "  inflating: data/train/Non Accident/test17_8.jpg  \n",
            "  inflating: data/train/Non Accident/test17_9.jpg  \n",
            "  inflating: data/train/Non Accident/test18_1.jpg  \n",
            "  inflating: data/train/Non Accident/test18_10.jpg  \n",
            "  inflating: data/train/Non Accident/test18_11.jpg  \n",
            "  inflating: data/train/Non Accident/test18_13.jpg  \n",
            "  inflating: data/train/Non Accident/test18_14.jpg  \n",
            "  inflating: data/train/Non Accident/test18_16.jpg  \n",
            "  inflating: data/train/Non Accident/test18_17.jpg  \n",
            "  inflating: data/train/Non Accident/test18_18.jpg  \n",
            "  inflating: data/train/Non Accident/test18_19.jpg  \n",
            "  inflating: data/train/Non Accident/test18_2.jpg  \n",
            "  inflating: data/train/Non Accident/test18_20.jpg  \n",
            "  inflating: data/train/Non Accident/test18_3.jpg  \n",
            "  inflating: data/train/Non Accident/test18_4.jpg  \n",
            "  inflating: data/train/Non Accident/test18_7.jpg  \n",
            "  inflating: data/train/Non Accident/test18_8.jpg  \n",
            "  inflating: data/train/Non Accident/test18_9.jpg  \n",
            "  inflating: data/train/Non Accident/test19_1.jpg  \n",
            "  inflating: data/train/Non Accident/test19_10.jpg  \n",
            "  inflating: data/train/Non Accident/test19_11.jpg  \n",
            "  inflating: data/train/Non Accident/test19_12.jpg  \n",
            "  inflating: data/train/Non Accident/test19_13.jpg  \n",
            "  inflating: data/train/Non Accident/test19_14.jpg  \n",
            "  inflating: data/train/Non Accident/test19_16.jpg  \n",
            "  inflating: data/train/Non Accident/test19_17.jpg  \n",
            "  inflating: data/train/Non Accident/test19_18.jpg  \n",
            "  inflating: data/train/Non Accident/test19_19.jpg  \n",
            "  inflating: data/train/Non Accident/test19_2.jpg  \n",
            "  inflating: data/train/Non Accident/test19_20.jpg  \n",
            "  inflating: data/train/Non Accident/test19_21.jpg  \n",
            "  inflating: data/train/Non Accident/test19_3.jpg  \n",
            "  inflating: data/train/Non Accident/test19_4.jpg  \n",
            "  inflating: data/train/Non Accident/test19_5.jpg  \n",
            "  inflating: data/train/Non Accident/test19_6.jpg  \n",
            "  inflating: data/train/Non Accident/test19_7.jpg  \n",
            "  inflating: data/train/Non Accident/test19_8.jpg  \n",
            "  inflating: data/train/Non Accident/test19_9.jpg  \n",
            "  inflating: data/train/Non Accident/test1_1.jpg  \n",
            "  inflating: data/train/Non Accident/test1_10.jpg  \n",
            "  inflating: data/train/Non Accident/test1_11.jpg  \n",
            "  inflating: data/train/Non Accident/test1_12.jpg  \n",
            "  inflating: data/train/Non Accident/test1_13.jpg  \n",
            "  inflating: data/train/Non Accident/test1_14.jpg  \n",
            "  inflating: data/train/Non Accident/test1_15.jpg  \n",
            "  inflating: data/train/Non Accident/test1_2.jpg  \n",
            "  inflating: data/train/Non Accident/test1_3.jpg  \n",
            "  inflating: data/train/Non Accident/test1_4.jpg  \n",
            "  inflating: data/train/Non Accident/test1_5.jpg  \n",
            "  inflating: data/train/Non Accident/test1_6.jpg  \n",
            "  inflating: data/train/Non Accident/test1_7.jpg  \n",
            "  inflating: data/train/Non Accident/test20_1.jpg  \n",
            "  inflating: data/train/Non Accident/test20_10.jpg  \n",
            "  inflating: data/train/Non Accident/test20_11.jpg  \n",
            "  inflating: data/train/Non Accident/test20_12.jpg  \n",
            "  inflating: data/train/Non Accident/test20_13.jpg  \n",
            "  inflating: data/train/Non Accident/test20_14.jpg  \n",
            "  inflating: data/train/Non Accident/test20_2.jpg  \n",
            "  inflating: data/train/Non Accident/test20_3.jpg  \n",
            "  inflating: data/train/Non Accident/test20_4.jpg  \n",
            "  inflating: data/train/Non Accident/test20_5.jpg  \n",
            "  inflating: data/train/Non Accident/test20_6.jpg  \n",
            "  inflating: data/train/Non Accident/test20_8.jpg  \n",
            "  inflating: data/train/Non Accident/test20_9.jpg  \n",
            "  inflating: data/train/Non Accident/test22_10.jpg  \n",
            "  inflating: data/train/Non Accident/test22_11.jpg  \n",
            "  inflating: data/train/Non Accident/test22_12.jpg  \n",
            "  inflating: data/train/Non Accident/test22_13.jpg  \n",
            "  inflating: data/train/Non Accident/test22_14.jpg  \n",
            "  inflating: data/train/Non Accident/test22_15.jpg  \n",
            "  inflating: data/train/Non Accident/test22_16.jpg  \n",
            "  inflating: data/train/Non Accident/test22_18.jpg  \n",
            "  inflating: data/train/Non Accident/test22_5.jpg  \n",
            "  inflating: data/train/Non Accident/test22_6.jpg  \n",
            "  inflating: data/train/Non Accident/test22_7.jpg  \n",
            "  inflating: data/train/Non Accident/test22_8.jpg  \n",
            "  inflating: data/train/Non Accident/test22_9.jpg  \n",
            "  inflating: data/train/Non Accident/test23_1.jpg  \n",
            "  inflating: data/train/Non Accident/test23_2.jpg  \n",
            "  inflating: data/train/Non Accident/test23_3.jpg  \n",
            "  inflating: data/train/Non Accident/test23_4.jpg  \n",
            "  inflating: data/train/Non Accident/test23_5.jpg  \n",
            "  inflating: data/train/Non Accident/test23_6.jpg  \n",
            "  inflating: data/train/Non Accident/test23_7.jpg  \n",
            "  inflating: data/train/Non Accident/test23_8.jpg  \n",
            "  inflating: data/train/Non Accident/test24_10.jpg  \n",
            "  inflating: data/train/Non Accident/test24_11.jpg  \n",
            "  inflating: data/train/Non Accident/test24_12.jpg  \n",
            "  inflating: data/train/Non Accident/test24_14.jpg  \n",
            "  inflating: data/train/Non Accident/test24_15.jpg  \n",
            "  inflating: data/train/Non Accident/test24_16.jpg  \n",
            "  inflating: data/train/Non Accident/test24_17.jpg  \n",
            "  inflating: data/train/Non Accident/test24_18.jpg  \n",
            "  inflating: data/train/Non Accident/test24_19.jpg  \n",
            "  inflating: data/train/Non Accident/test24_2.jpg  \n",
            "  inflating: data/train/Non Accident/test24_20.jpg  \n",
            "  inflating: data/train/Non Accident/test24_3.jpg  \n",
            "  inflating: data/train/Non Accident/test24_4.jpg  \n",
            "  inflating: data/train/Non Accident/test24_5.jpg  \n",
            "  inflating: data/train/Non Accident/test24_6.jpg  \n",
            "  inflating: data/train/Non Accident/test24_7.jpg  \n",
            "  inflating: data/train/Non Accident/test24_9.jpg  \n",
            "  inflating: data/train/Non Accident/test25_11.jpg  \n",
            "  inflating: data/train/Non Accident/test25_12.jpg  \n",
            "  inflating: data/train/Non Accident/test25_13.jpg  \n",
            "  inflating: data/train/Non Accident/test25_14.jpg  \n",
            "  inflating: data/train/Non Accident/test25_15.jpg  \n",
            "  inflating: data/train/Non Accident/test25_16.jpg  \n",
            "  inflating: data/train/Non Accident/test25_18.jpg  \n",
            "  inflating: data/train/Non Accident/test25_2.jpg  \n",
            "  inflating: data/train/Non Accident/test25_3.jpg  \n",
            "  inflating: data/train/Non Accident/test25_4.jpg  \n",
            "  inflating: data/train/Non Accident/test25_6.jpg  \n",
            "  inflating: data/train/Non Accident/test25_7.jpg  \n",
            "  inflating: data/train/Non Accident/test25_8.jpg  \n",
            "  inflating: data/train/Non Accident/test25_9.jpg  \n",
            "  inflating: data/train/Non Accident/test26_1.jpg  \n",
            "  inflating: data/train/Non Accident/test26_10.jpg  \n",
            "  inflating: data/train/Non Accident/test26_3.jpg  \n",
            "  inflating: data/train/Non Accident/test26_4.jpg  \n",
            "  inflating: data/train/Non Accident/test26_6.jpg  \n",
            "  inflating: data/train/Non Accident/test26_7.jpg  \n",
            "  inflating: data/train/Non Accident/test26_9.jpg  \n",
            "  inflating: data/train/Non Accident/test27_1.jpg  \n",
            "  inflating: data/train/Non Accident/test27_2.jpg  \n",
            "  inflating: data/train/Non Accident/test27_3.jpg  \n",
            "  inflating: data/train/Non Accident/test27_4.jpg  \n",
            "  inflating: data/train/Non Accident/test27_59.jpg  \n",
            "  inflating: data/train/Non Accident/test27_6.jpg  \n",
            "  inflating: data/train/Non Accident/test27_60.jpg  \n",
            "  inflating: data/train/Non Accident/test28_11.jpg  \n",
            "  inflating: data/train/Non Accident/test28_12.jpg  \n",
            "  inflating: data/train/Non Accident/test28_2.jpg  \n",
            "  inflating: data/train/Non Accident/test28_7.jpg  \n",
            "  inflating: data/train/Non Accident/test28_8.jpg  \n",
            "  inflating: data/train/Non Accident/test28_9.jpg  \n",
            "  inflating: data/train/Non Accident/test29_1.jpg  \n",
            "  inflating: data/train/Non Accident/test29_16.jpg  \n",
            "  inflating: data/train/Non Accident/test29_17.jpg  \n",
            "  inflating: data/train/Non Accident/test29_2.jpg  \n",
            "  inflating: data/train/Non Accident/test29_20.jpg  \n",
            "  inflating: data/train/Non Accident/test29_21.jpg  \n",
            "  inflating: data/train/Non Accident/test29_23.jpg  \n",
            "  inflating: data/train/Non Accident/test29_24.jpg  \n",
            "  inflating: data/train/Non Accident/test29_29.jpg  \n",
            "  inflating: data/train/Non Accident/test29_30.jpg  \n",
            "  inflating: data/train/Non Accident/test29_31.jpg  \n",
            "  inflating: data/train/Non Accident/test29_4.jpg  \n",
            "  inflating: data/train/Non Accident/test29_5.jpg  \n",
            "  inflating: data/train/Non Accident/test30_1.jpg  \n",
            "  inflating: data/train/Non Accident/test30_2.jpg  \n",
            "  inflating: data/train/Non Accident/test30_3.jpg  \n",
            "  inflating: data/train/Non Accident/test30_4.jpg  \n",
            "  inflating: data/train/Non Accident/test30_6.jpg  \n",
            "  inflating: data/train/Non Accident/test3_13.jpg  \n",
            "  inflating: data/train/Non Accident/test3_14.jpg  \n",
            "  inflating: data/train/Non Accident/test3_15.jpg  \n",
            "  inflating: data/train/Non Accident/test3_16.jpg  \n",
            "  inflating: data/train/Non Accident/test3_17.jpg  \n",
            "  inflating: data/train/Non Accident/test3_19.jpg  \n",
            "  inflating: data/train/Non Accident/test3_20.jpg  \n",
            "  inflating: data/train/Non Accident/test3_22.jpg  \n",
            "  inflating: data/train/Non Accident/test3_23.jpg  \n",
            "  inflating: data/train/Non Accident/test3_24.jpg  \n",
            "  inflating: data/train/Non Accident/test3_34.jpg  \n",
            "  inflating: data/train/Non Accident/test3_35.jpg  \n",
            "  inflating: data/train/Non Accident/test3_36.jpg  \n",
            "  inflating: data/train/Non Accident/test3_37.jpg  \n",
            "  inflating: data/train/Non Accident/test3_38.jpg  \n",
            "  inflating: data/train/Non Accident/test3_39.jpg  \n",
            "  inflating: data/train/Non Accident/test3_4.jpg  \n",
            "  inflating: data/train/Non Accident/test3_41.jpg  \n",
            "  inflating: data/train/Non Accident/test3_42.jpg  \n",
            "  inflating: data/train/Non Accident/test4_1.jpg  \n",
            "  inflating: data/train/Non Accident/test4_12.jpg  \n",
            "  inflating: data/train/Non Accident/test4_13.jpg  \n",
            "  inflating: data/train/Non Accident/test4_15.jpg  \n",
            "  inflating: data/train/Non Accident/test4_16.jpg  \n",
            "  inflating: data/train/Non Accident/test4_17.jpg  \n",
            "  inflating: data/train/Non Accident/test4_18.jpg  \n",
            "  inflating: data/train/Non Accident/test4_20.jpg  \n",
            "  inflating: data/train/Non Accident/test4_22.jpg  \n",
            "  inflating: data/train/Non Accident/test4_23.jpg  \n",
            "  inflating: data/train/Non Accident/test4_24.jpg  \n",
            "  inflating: data/train/Non Accident/test4_25.jpg  \n",
            "  inflating: data/train/Non Accident/test4_26.jpg  \n",
            "  inflating: data/train/Non Accident/test4_27.jpg  \n",
            "  inflating: data/train/Non Accident/test4_29.jpg  \n",
            "  inflating: data/train/Non Accident/test4_3.jpg  \n",
            "  inflating: data/train/Non Accident/test4_30.jpg  \n",
            "  inflating: data/train/Non Accident/test4_51.jpg  \n",
            "  inflating: data/train/Non Accident/test4_52.jpg  \n",
            "  inflating: data/train/Non Accident/test4_54.jpg  \n",
            "  inflating: data/train/Non Accident/test4_55.jpg  \n",
            "  inflating: data/train/Non Accident/test4_56.jpg  \n",
            "  inflating: data/train/Non Accident/test4_58.jpg  \n",
            "  inflating: data/train/Non Accident/test4_59.jpg  \n",
            "  inflating: data/train/Non Accident/test4_7.jpg  \n",
            "  inflating: data/train/Non Accident/test4_8.jpg  \n",
            "  inflating: data/train/Non Accident/test7_11.jpg  \n",
            "  inflating: data/train/Non Accident/test7_12.jpg  \n",
            "  inflating: data/train/Non Accident/test7_13.jpg  \n",
            "  inflating: data/train/Non Accident/test7_14.jpg  \n",
            "  inflating: data/train/Non Accident/test7_15.jpg  \n",
            "  inflating: data/train/Non Accident/test7_16.jpg  \n",
            "  inflating: data/train/Non Accident/test7_17.jpg  \n",
            "  inflating: data/train/Non Accident/test7_18.jpg  \n",
            "  inflating: data/train/Non Accident/test7_19.jpg  \n",
            "  inflating: data/train/Non Accident/test7_2.jpg  \n",
            "  inflating: data/train/Non Accident/test7_20.jpg  \n",
            "  inflating: data/train/Non Accident/test7_21.jpg  \n",
            "  inflating: data/train/Non Accident/test7_23.jpg  \n",
            "  inflating: data/train/Non Accident/test7_24.jpg  \n",
            "  inflating: data/train/Non Accident/test7_3.jpg  \n",
            "  inflating: data/train/Non Accident/test7_33.jpg  \n",
            "  inflating: data/train/Non Accident/test7_34.jpg  \n",
            "  inflating: data/train/Non Accident/test7_35.jpg  \n",
            "  inflating: data/train/Non Accident/test7_36.jpg  \n",
            "  inflating: data/train/Non Accident/test7_4.jpg  \n",
            "  inflating: data/train/Non Accident/test7_40.jpg  \n",
            "  inflating: data/train/Non Accident/test7_41.jpg  \n",
            "  inflating: data/train/Non Accident/test7_42.jpg  \n",
            "  inflating: data/train/Non Accident/test7_44.jpg  \n",
            "  inflating: data/train/Non Accident/test7_45.jpg  \n",
            "  inflating: data/train/Non Accident/test7_46.jpg  \n",
            "  inflating: data/train/Non Accident/test7_47.jpg  \n",
            "  inflating: data/train/Non Accident/test7_48.jpg  \n",
            "  inflating: data/train/Non Accident/test7_49.jpg  \n",
            "  inflating: data/train/Non Accident/test7_5.jpg  \n",
            "  inflating: data/train/Non Accident/test7_50.jpg  \n",
            "  inflating: data/train/Non Accident/test7_51.jpg  \n",
            "  inflating: data/train/Non Accident/test7_52.jpg  \n",
            "  inflating: data/train/Non Accident/test7_58.jpg  \n",
            "  inflating: data/train/Non Accident/test7_59.jpg  \n",
            "  inflating: data/train/Non Accident/test7_6.jpg  \n",
            "  inflating: data/train/Non Accident/test7_60.jpg  \n",
            "  inflating: data/train/Non Accident/test7_7.jpg  \n",
            "  inflating: data/train/Non Accident/test7_8.jpg  \n",
            "  inflating: data/train/Non Accident/test7_9.jpg  \n",
            "  inflating: data/train/Non Accident/test8_1.jpg  \n",
            "  inflating: data/train/Non Accident/test8_10.jpg  \n",
            "  inflating: data/train/Non Accident/test8_17.jpg  \n",
            "  inflating: data/train/Non Accident/test8_18.jpg  \n",
            "  inflating: data/train/Non Accident/test8_19.jpg  \n",
            "  inflating: data/train/Non Accident/test8_2.jpg  \n",
            "  inflating: data/train/Non Accident/test8_20.jpg  \n",
            "  inflating: data/train/Non Accident/test8_21.jpg  \n",
            "  inflating: data/train/Non Accident/test8_4.jpg  \n",
            "  inflating: data/train/Non Accident/test8_5.jpg  \n",
            "  inflating: data/train/Non Accident/test8_6.jpg  \n",
            "  inflating: data/train/Non Accident/test8_7.jpg  \n",
            "  inflating: data/train/Non Accident/test8_8.jpg  \n",
            "  inflating: data/train/Non Accident/test9_1.jpg  \n",
            "  inflating: data/train/Non Accident/test9_10.jpg  \n",
            "  inflating: data/train/Non Accident/test9_11.jpg  \n",
            "  inflating: data/train/Non Accident/test9_13.jpg  \n",
            "  inflating: data/train/Non Accident/test9_14.jpg  \n",
            "  inflating: data/train/Non Accident/test9_16.jpg  \n",
            "  inflating: data/train/Non Accident/test9_17.jpg  \n",
            "  inflating: data/train/Non Accident/test9_18.jpg  \n",
            "  inflating: data/train/Non Accident/test9_19.jpg  \n",
            "  inflating: data/train/Non Accident/test9_2.jpg  \n",
            "  inflating: data/train/Non Accident/test9_21.jpg  \n",
            "  inflating: data/train/Non Accident/test9_22.jpg  \n",
            "  inflating: data/train/Non Accident/test9_23.jpg  \n",
            "  inflating: data/train/Non Accident/test9_24.jpg  \n",
            "  inflating: data/train/Non Accident/test9_3.jpg  \n",
            "  inflating: data/train/Non Accident/test9_4.jpg  \n",
            "  inflating: data/train/Non Accident/test9_5.jpg  \n",
            "  inflating: data/train/Non Accident/test9_7.jpg  \n",
            "  inflating: data/train/Non Accident/test9_9.jpg  \n",
            "  inflating: data/train/Non Accident/test_1.jpg  \n",
            "  inflating: data/train/Non Accident/test_10.jpg  \n",
            "  inflating: data/train/Non Accident/test_11.jpg  \n",
            "  inflating: data/train/Non Accident/test_12.jpg  \n",
            "  inflating: data/train/Non Accident/test_13.jpg  \n",
            "  inflating: data/train/Non Accident/test_14.jpg  \n",
            "  inflating: data/train/Non Accident/test_15.jpg  \n",
            "  inflating: data/train/Non Accident/test_16.jpg  \n",
            "  inflating: data/train/Non Accident/test_18.jpg  \n",
            "  inflating: data/train/Non Accident/test_19.jpg  \n",
            "  inflating: data/train/Non Accident/test_20.jpg  \n",
            "  inflating: data/train/Non Accident/test_21.jpg  \n",
            "  inflating: data/train/Non Accident/test_23.jpg  \n",
            "  inflating: data/train/Non Accident/test_24.jpg  \n",
            "  inflating: data/train/Non Accident/test_25.jpg  \n",
            "  inflating: data/train/Non Accident/test_3.jpg  \n",
            "  inflating: data/train/Non Accident/test_4.jpg  \n",
            "  inflating: data/train/Non Accident/test_46.jpg  \n",
            "  inflating: data/train/Non Accident/test_5.jpg  \n",
            "  inflating: data/train/Non Accident/test_6.jpg  \n",
            "  inflating: data/train/Non Accident/test_7.jpg  \n",
            "  inflating: data/train/Non Accident/test_8.jpg  \n",
            "  inflating: data/train/Non Accident/test_9.jpg  \n",
            "  inflating: data/val/Accident/acc1 (4).jpg  \n",
            "  inflating: data/val/Accident/acc1 (6).jpg  \n",
            "  inflating: data/val/Accident/test10_22.jpg  \n",
            "  inflating: data/val/Accident/test10_23.jpg  \n",
            "  inflating: data/val/Accident/test10_27.jpg  \n",
            "  inflating: data/val/Accident/test10_34.jpg  \n",
            "  inflating: data/val/Accident/test10_36.jpg  \n",
            "  inflating: data/val/Accident/test10_54.jpg  \n",
            "  inflating: data/val/Accident/test13_18.jpg  \n",
            "  inflating: data/val/Accident/test13_20.jpg  \n",
            "  inflating: data/val/Accident/test14_11.jpg  \n",
            "  inflating: data/val/Accident/test14_19.jpg  \n",
            "  inflating: data/val/Accident/test15_9.jpg  \n",
            "  inflating: data/val/Accident/test16_28.jpg  \n",
            "  inflating: data/val/Accident/test18_25.jpg  \n",
            "  inflating: data/val/Accident/test21_22.jpg  \n",
            "  inflating: data/val/Accident/test22_27.jpg  \n",
            "  inflating: data/val/Accident/test23_15.jpg  \n",
            "  inflating: data/val/Accident/test23_18.jpg  \n",
            "  inflating: data/val/Accident/test24_41.jpg  \n",
            "  inflating: data/val/Accident/test25_31.jpg  \n",
            "  inflating: data/val/Accident/test26_12.jpg  \n",
            "  inflating: data/val/Accident/test26_15.jpg  \n",
            "  inflating: data/val/Accident/test26_22.jpg  \n",
            "  inflating: data/val/Accident/test26_26.jpg  \n",
            "  inflating: data/val/Accident/test27_17.jpg  \n",
            "  inflating: data/val/Accident/test27_18.jpg  \n",
            "  inflating: data/val/Accident/test27_21.jpg  \n",
            "  inflating: data/val/Accident/test27_26.jpg  \n",
            "  inflating: data/val/Accident/test27_35.jpg  \n",
            "  inflating: data/val/Accident/test27_9.jpg  \n",
            "  inflating: data/val/Accident/test28_18.jpg  \n",
            "  inflating: data/val/Accident/test28_29.jpg  \n",
            "  inflating: data/val/Accident/test28_31.jpg  \n",
            "  inflating: data/val/Accident/test29_15.jpg  \n",
            "  inflating: data/val/Accident/test2_23.jpg  \n",
            "  inflating: data/val/Accident/test30_13.jpg  \n",
            "  inflating: data/val/Accident/test3_26.jpg  \n",
            "  inflating: data/val/Accident/test4_47.jpg  \n",
            "  inflating: data/val/Accident/test7_32.jpg  \n",
            "  inflating: data/val/Accident/test_26.jpg  \n",
            "  inflating: data/val/Accident/test_30.jpg  \n",
            "  inflating: data/val/Accident/test_35.jpg  \n",
            "  inflating: data/val/Accident/test_37.jpg  \n",
            "  inflating: data/val/Accident/test_41.jpg  \n",
            "  inflating: data/val/Accident/test_45.jpg  \n",
            "  inflating: data/val/Non Accident/5_16.jpg  \n",
            "  inflating: data/val/Non Accident/5_22.jpg  \n",
            "  inflating: data/val/Non Accident/5_26.jpg  \n",
            "  inflating: data/val/Non Accident/test10_1.jpg  \n",
            "  inflating: data/val/Non Accident/test10_3.jpg  \n",
            "  inflating: data/val/Non Accident/test11_49.jpg  \n",
            "  inflating: data/val/Non Accident/test14_3.jpg  \n",
            "  inflating: data/val/Non Accident/test14_5.jpg  \n",
            "  inflating: data/val/Non Accident/test15_18.jpg  \n",
            "  inflating: data/val/Non Accident/test15_27.jpg  \n",
            "  inflating: data/val/Non Accident/test16_12.jpg  \n",
            "  inflating: data/val/Non Accident/test17_29.jpg  \n",
            "  inflating: data/val/Non Accident/test18_12.jpg  \n",
            "  inflating: data/val/Non Accident/test18_6.jpg  \n",
            "  inflating: data/val/Non Accident/test20_7.jpg  \n",
            "  inflating: data/val/Non Accident/test22_17.jpg  \n",
            "  inflating: data/val/Non Accident/test22_19.jpg  \n",
            "  inflating: data/val/Non Accident/test24_1.jpg  \n",
            "  inflating: data/val/Non Accident/test24_13.jpg  \n",
            "  inflating: data/val/Non Accident/test24_8.jpg  \n",
            "  inflating: data/val/Non Accident/test25_10.jpg  \n",
            "  inflating: data/val/Non Accident/test25_17.jpg  \n",
            "  inflating: data/val/Non Accident/test25_22.jpg  \n",
            "  inflating: data/val/Non Accident/test25_5.jpg  \n",
            "  inflating: data/val/Non Accident/test26_11.jpg  \n",
            "  inflating: data/val/Non Accident/test26_2.jpg  \n",
            "  inflating: data/val/Non Accident/test26_8.jpg  \n",
            "  inflating: data/val/Non Accident/test28_13.jpg  \n",
            "  inflating: data/val/Non Accident/test28_14.jpg  \n",
            "  inflating: data/val/Non Accident/test29_18.jpg  \n",
            "  inflating: data/val/Non Accident/test29_22.jpg  \n",
            "  inflating: data/val/Non Accident/test30_5.jpg  \n",
            "  inflating: data/val/Non Accident/test3_25.jpg  \n",
            "  inflating: data/val/Non Accident/test3_5.jpg  \n",
            "  inflating: data/val/Non Accident/test4_14.jpg  \n",
            "  inflating: data/val/Non Accident/test4_19.jpg  \n",
            "  inflating: data/val/Non Accident/test4_2.jpg  \n",
            "  inflating: data/val/Non Accident/test4_21.jpg  \n",
            "  inflating: data/val/Non Accident/test4_5.jpg  \n",
            "  inflating: data/val/Non Accident/test4_57.jpg  \n",
            "  inflating: data/val/Non Accident/test7_1.jpg  \n",
            "  inflating: data/val/Non Accident/test7_37.jpg  \n",
            "  inflating: data/val/Non Accident/test7_43.jpg  \n",
            "  inflating: data/val/Non Accident/test8_23.jpg  \n",
            "  inflating: data/val/Non Accident/test8_24.jpg  \n",
            "  inflating: data/val/Non Accident/test8_9.jpg  \n",
            "  inflating: data/val/Non Accident/test9_12.jpg  \n",
            "  inflating: data/val/Non Accident/test9_15.jpg  \n",
            "  inflating: data/val/Non Accident/test9_6.jpg  \n",
            "  inflating: data/val/Non Accident/test9_8.jpg  \n",
            "  inflating: data/val/Non Accident/test_17.jpg  \n",
            "  inflating: data/val/Non Accident/test_22.jpg  \n"
          ]
        }
      ],
      "source": [
        "! unzip accident-detection-from-cctv-footage.zip"
      ]
    },
    {
      "cell_type": "markdown",
      "source": [
        "#**CNN Accident Detection**"
      ],
      "metadata": {
        "id": "NU3gAaawWY5a"
      }
    },
    {
      "cell_type": "code",
      "execution_count": null,
      "metadata": {
        "id": "F7fFmzmhFoGO"
      },
      "outputs": [],
      "source": [
        "import cv2\n",
        "import numpy as np\n",
        "import pandas as pd\n",
        "import matplotlib.pyplot as plt\n",
        "import tensorflow as tf\n",
        "from tensorflow.keras import layers"
      ]
    },
    {
      "cell_type": "code",
      "source": [
        "batch_size = 100\n",
        "img_height = 250\n",
        "img_width = 250"
      ],
      "metadata": {
        "id": "xa5dx8vtouwg"
      },
      "execution_count": null,
      "outputs": []
    },
    {
      "cell_type": "code",
      "source": [
        "training_ds = tf.keras.preprocessing.image_dataset_from_directory(\n",
        "    '/content/data/train',\n",
        "    seed=101,\n",
        "    image_size= (img_height, img_width),\n",
        "    batch_size=batch_size)"
      ],
      "metadata": {
        "id": "n0Fn1UpToutU",
        "colab": {
          "base_uri": "https://localhost:8080/"
        },
        "outputId": "6adb2118-4138-4c83-f599-fac807795b5c"
      },
      "execution_count": null,
      "outputs": [
        {
          "output_type": "stream",
          "name": "stdout",
          "text": [
            "Found 791 files belonging to 2 classes.\n"
          ]
        }
      ]
    },
    {
      "cell_type": "code",
      "source": [
        "testing_ds = tf.keras.preprocessing.image_dataset_from_directory(\n",
        "    '/content/data/test',\n",
        "    seed=101,\n",
        "    image_size= (img_height, img_width),\n",
        "    batch_size=batch_size)"
      ],
      "metadata": {
        "id": "G6gqTEPhourU",
        "colab": {
          "base_uri": "https://localhost:8080/"
        },
        "outputId": "9bd415ac-1e1f-48ed-cae5-2cbc975b5af8"
      },
      "execution_count": null,
      "outputs": [
        {
          "output_type": "stream",
          "name": "stdout",
          "text": [
            "Found 100 files belonging to 2 classes.\n"
          ]
        }
      ]
    },
    {
      "cell_type": "code",
      "source": [
        "validation_ds =  tf.keras.preprocessing.image_dataset_from_directory(\n",
        "    '/content/data/val',\n",
        "    seed=101,\n",
        "    image_size= (img_height, img_width),\n",
        "    batch_size=batch_size)"
      ],
      "metadata": {
        "id": "bJnvd1yKoupF",
        "colab": {
          "base_uri": "https://localhost:8080/"
        },
        "outputId": "eb803315-814f-4b11-fb4a-b94760a01583"
      },
      "execution_count": null,
      "outputs": [
        {
          "output_type": "stream",
          "name": "stdout",
          "text": [
            "Found 98 files belonging to 2 classes.\n"
          ]
        }
      ]
    },
    {
      "cell_type": "code",
      "source": [
        "#Configuring dataset for better performance\n",
        "class_names = training_ds.class_names\n",
        "\n",
        "AUTOTUNE = tf.data.experimental.AUTOTUNE\n",
        "training_ds = training_ds.cache().prefetch(buffer_size=AUTOTUNE)\n",
        "testing_ds = testing_ds.cache().prefetch(buffer_size=AUTOTUNE)"
      ],
      "metadata": {
        "id": "M-H0Dyjnoumy"
      },
      "execution_count": null,
      "outputs": []
    },
    {
      "cell_type": "markdown",
      "source": [
        "### Defining and Creating the Model"
      ],
      "metadata": {
        "id": "K0yUNwgoYiDE"
      }
    },
    {
      "cell_type": "code",
      "source": [
        "img_shape = (img_height, img_width, 3)\n",
        "\n",
        "base_model = tf.keras.applications.MobileNetV2(input_shape=img_shape,\n",
        "                                               include_top=False,\n",
        "                                               weights='imagenet')\n",
        "\n",
        "base_model.trainable = False"
      ],
      "metadata": {
        "id": "4TGptl73ouki",
        "colab": {
          "base_uri": "https://localhost:8080/"
        },
        "outputId": "7305122f-1ed8-4640-a640-409dd26c2373"
      },
      "execution_count": null,
      "outputs": [
        {
          "output_type": "stream",
          "name": "stderr",
          "text": [
            "WARNING:tensorflow:`input_shape` is undefined or non-square, or `rows` is not in [96, 128, 160, 192, 224]. Weights for input shape (224, 224) will be loaded as the default.\n"
          ]
        },
        {
          "output_type": "stream",
          "name": "stdout",
          "text": [
            "Downloading data from https://storage.googleapis.com/tensorflow/keras-applications/mobilenet_v2/mobilenet_v2_weights_tf_dim_ordering_tf_kernels_1.0_224_no_top.h5\n",
            "9406464/9406464 [==============================] - 0s 0us/step\n"
          ]
        }
      ]
    },
    {
      "cell_type": "markdown",
      "source": [
        "###Creating Final Model"
      ],
      "metadata": {
        "id": "IBPIMg6HZSK9"
      }
    },
    {
      "cell_type": "code",
      "source": [
        "model = tf.keras.Sequential([\n",
        "    base_model,\n",
        "    layers.Conv2D(32, 3, activation='relu'),\n",
        "    layers.Conv2D(64, 3, activation='relu'),\n",
        "    layers.Conv2D(128, 3, activation='relu'),\n",
        "    layers.Flatten(),\n",
        "    layers.Dense(len(class_names), activation= 'softmax')\n",
        "])"
      ],
      "metadata": {
        "id": "Yi1g98PCouhx"
      },
      "execution_count": null,
      "outputs": []
    },
    {
      "cell_type": "code",
      "source": [
        "model.compile(optimizer='adam',loss='sparse_categorical_crossentropy', metrics=['accuracy'])"
      ],
      "metadata": {
        "id": "vLExvQ9youfb"
      },
      "execution_count": null,
      "outputs": []
    },
    {
      "cell_type": "code",
      "execution_count": null,
      "metadata": {
        "id": "YrPt2cY9kY4p",
        "colab": {
          "base_uri": "https://localhost:8080/",
          "height": 877
        },
        "outputId": "8861d1ac-d020-4313-a072-20a5f5c2c7c2"
      },
      "outputs": [
        {
          "output_type": "stream",
          "name": "stdout",
          "text": [
            "Epoch 1/25\n",
            "8/8 [==============================] - 65s 8s/step - loss: 0.0084 - accuracy: 0.9949 - val_loss: 0.2190 - val_accuracy: 0.9184\n",
            "Epoch 2/25\n",
            "8/8 [==============================] - 58s 7s/step - loss: 0.0071 - accuracy: 0.9949 - val_loss: 0.2357 - val_accuracy: 0.9184\n",
            "Epoch 3/25\n",
            "8/8 [==============================] - 61s 8s/step - loss: 0.0081 - accuracy: 0.9949 - val_loss: 0.2259 - val_accuracy: 0.9184\n",
            "Epoch 4/25\n",
            "8/8 [==============================] - 59s 8s/step - loss: 0.0072 - accuracy: 0.9949 - val_loss: 0.2383 - val_accuracy: 0.9286\n",
            "Epoch 5/25\n",
            "8/8 [==============================] - 60s 8s/step - loss: 0.0079 - accuracy: 0.9949 - val_loss: 0.2285 - val_accuracy: 0.9184\n",
            "Epoch 6/25\n",
            "8/8 [==============================] - 60s 8s/step - loss: 0.0073 - accuracy: 0.9949 - val_loss: 0.2350 - val_accuracy: 0.9184\n",
            "Epoch 7/25\n",
            "8/8 [==============================] - 60s 8s/step - loss: 0.0078 - accuracy: 0.9949 - val_loss: 0.2322 - val_accuracy: 0.9184\n",
            "Epoch 8/25\n",
            "8/8 [==============================] - 59s 7s/step - loss: 0.0074 - accuracy: 0.9949 - val_loss: 0.2385 - val_accuracy: 0.9184\n",
            "Epoch 9/25\n",
            "8/8 [==============================] - 58s 8s/step - loss: 0.0077 - accuracy: 0.9949 - val_loss: 0.2350 - val_accuracy: 0.9184\n",
            "Epoch 10/25\n",
            "8/8 [==============================] - 57s 7s/step - loss: 0.0075 - accuracy: 0.9949 - val_loss: 0.2371 - val_accuracy: 0.9184\n",
            "Epoch 11/25\n",
            "8/8 [==============================] - 59s 8s/step - loss: 0.0076 - accuracy: 0.9949 - val_loss: 0.2348 - val_accuracy: 0.9184\n",
            "Epoch 12/25\n",
            "8/8 [==============================] - 61s 8s/step - loss: 0.0077 - accuracy: 0.9949 - val_loss: 0.2350 - val_accuracy: 0.9184\n",
            "Epoch 13/25\n",
            "8/8 [==============================] - 53s 7s/step - loss: 0.0076 - accuracy: 0.9949 - val_loss: 0.2361 - val_accuracy: 0.9184\n",
            "Epoch 14/25\n",
            "8/8 [==============================] - 55s 7s/step - loss: 0.0076 - accuracy: 0.9949 - val_loss: 0.2372 - val_accuracy: 0.9184\n",
            "Epoch 15/25\n",
            "8/8 [==============================] - 59s 7s/step - loss: 0.0076 - accuracy: 0.9949 - val_loss: 0.2381 - val_accuracy: 0.9184\n",
            "Epoch 16/25\n",
            "7/8 [=========================>....] - ETA: 6s - loss: 0.0071 - accuracy: 0.9957 "
          ]
        },
        {
          "output_type": "error",
          "ename": "KeyboardInterrupt",
          "evalue": "ignored",
          "traceback": [
            "\u001b[0;31m---------------------------------------------------------------------------\u001b[0m",
            "\u001b[0;31mKeyboardInterrupt\u001b[0m                         Traceback (most recent call last)",
            "\u001b[0;32m<ipython-input-19-221e5687fae9>\u001b[0m in \u001b[0;36m<cell line: 1>\u001b[0;34m()\u001b[0m\n\u001b[0;32m----> 1\u001b[0;31m \u001b[0mhistory\u001b[0m \u001b[0;34m=\u001b[0m \u001b[0mmodel\u001b[0m\u001b[0;34m.\u001b[0m\u001b[0mfit\u001b[0m\u001b[0;34m(\u001b[0m\u001b[0mtraining_ds\u001b[0m\u001b[0;34m,\u001b[0m \u001b[0mvalidation_data\u001b[0m \u001b[0;34m=\u001b[0m \u001b[0mvalidation_ds\u001b[0m\u001b[0;34m,\u001b[0m \u001b[0mepochs\u001b[0m \u001b[0;34m=\u001b[0m \u001b[0;36m25\u001b[0m\u001b[0;34m)\u001b[0m\u001b[0;34m\u001b[0m\u001b[0;34m\u001b[0m\u001b[0m\n\u001b[0m",
            "\u001b[0;32m/usr/local/lib/python3.10/dist-packages/keras/src/utils/traceback_utils.py\u001b[0m in \u001b[0;36merror_handler\u001b[0;34m(*args, **kwargs)\u001b[0m\n\u001b[1;32m     63\u001b[0m         \u001b[0mfiltered_tb\u001b[0m \u001b[0;34m=\u001b[0m \u001b[0;32mNone\u001b[0m\u001b[0;34m\u001b[0m\u001b[0;34m\u001b[0m\u001b[0m\n\u001b[1;32m     64\u001b[0m         \u001b[0;32mtry\u001b[0m\u001b[0;34m:\u001b[0m\u001b[0;34m\u001b[0m\u001b[0;34m\u001b[0m\u001b[0m\n\u001b[0;32m---> 65\u001b[0;31m             \u001b[0;32mreturn\u001b[0m \u001b[0mfn\u001b[0m\u001b[0;34m(\u001b[0m\u001b[0;34m*\u001b[0m\u001b[0margs\u001b[0m\u001b[0;34m,\u001b[0m \u001b[0;34m**\u001b[0m\u001b[0mkwargs\u001b[0m\u001b[0;34m)\u001b[0m\u001b[0;34m\u001b[0m\u001b[0;34m\u001b[0m\u001b[0m\n\u001b[0m\u001b[1;32m     66\u001b[0m         \u001b[0;32mexcept\u001b[0m \u001b[0mException\u001b[0m \u001b[0;32mas\u001b[0m \u001b[0me\u001b[0m\u001b[0;34m:\u001b[0m\u001b[0;34m\u001b[0m\u001b[0;34m\u001b[0m\u001b[0m\n\u001b[1;32m     67\u001b[0m             \u001b[0mfiltered_tb\u001b[0m \u001b[0;34m=\u001b[0m \u001b[0m_process_traceback_frames\u001b[0m\u001b[0;34m(\u001b[0m\u001b[0me\u001b[0m\u001b[0;34m.\u001b[0m\u001b[0m__traceback__\u001b[0m\u001b[0;34m)\u001b[0m\u001b[0;34m\u001b[0m\u001b[0;34m\u001b[0m\u001b[0m\n",
            "\u001b[0;32m/usr/local/lib/python3.10/dist-packages/keras/src/engine/training.py\u001b[0m in \u001b[0;36mfit\u001b[0;34m(self, x, y, batch_size, epochs, verbose, callbacks, validation_split, validation_data, shuffle, class_weight, sample_weight, initial_epoch, steps_per_epoch, validation_steps, validation_batch_size, validation_freq, max_queue_size, workers, use_multiprocessing)\u001b[0m\n\u001b[1;32m   1740\u001b[0m                         ):\n\u001b[1;32m   1741\u001b[0m                             \u001b[0mcallbacks\u001b[0m\u001b[0;34m.\u001b[0m\u001b[0mon_train_batch_begin\u001b[0m\u001b[0;34m(\u001b[0m\u001b[0mstep\u001b[0m\u001b[0;34m)\u001b[0m\u001b[0;34m\u001b[0m\u001b[0;34m\u001b[0m\u001b[0m\n\u001b[0;32m-> 1742\u001b[0;31m                             \u001b[0mtmp_logs\u001b[0m \u001b[0;34m=\u001b[0m \u001b[0mself\u001b[0m\u001b[0;34m.\u001b[0m\u001b[0mtrain_function\u001b[0m\u001b[0;34m(\u001b[0m\u001b[0miterator\u001b[0m\u001b[0;34m)\u001b[0m\u001b[0;34m\u001b[0m\u001b[0;34m\u001b[0m\u001b[0m\n\u001b[0m\u001b[1;32m   1743\u001b[0m                             \u001b[0;32mif\u001b[0m \u001b[0mdata_handler\u001b[0m\u001b[0;34m.\u001b[0m\u001b[0mshould_sync\u001b[0m\u001b[0;34m:\u001b[0m\u001b[0;34m\u001b[0m\u001b[0;34m\u001b[0m\u001b[0m\n\u001b[1;32m   1744\u001b[0m                                 \u001b[0mcontext\u001b[0m\u001b[0;34m.\u001b[0m\u001b[0masync_wait\u001b[0m\u001b[0;34m(\u001b[0m\u001b[0;34m)\u001b[0m\u001b[0;34m\u001b[0m\u001b[0;34m\u001b[0m\u001b[0m\n",
            "\u001b[0;32m/usr/local/lib/python3.10/dist-packages/tensorflow/python/util/traceback_utils.py\u001b[0m in \u001b[0;36merror_handler\u001b[0;34m(*args, **kwargs)\u001b[0m\n\u001b[1;32m    148\u001b[0m     \u001b[0mfiltered_tb\u001b[0m \u001b[0;34m=\u001b[0m \u001b[0;32mNone\u001b[0m\u001b[0;34m\u001b[0m\u001b[0;34m\u001b[0m\u001b[0m\n\u001b[1;32m    149\u001b[0m     \u001b[0;32mtry\u001b[0m\u001b[0;34m:\u001b[0m\u001b[0;34m\u001b[0m\u001b[0;34m\u001b[0m\u001b[0m\n\u001b[0;32m--> 150\u001b[0;31m       \u001b[0;32mreturn\u001b[0m \u001b[0mfn\u001b[0m\u001b[0;34m(\u001b[0m\u001b[0;34m*\u001b[0m\u001b[0margs\u001b[0m\u001b[0;34m,\u001b[0m \u001b[0;34m**\u001b[0m\u001b[0mkwargs\u001b[0m\u001b[0;34m)\u001b[0m\u001b[0;34m\u001b[0m\u001b[0;34m\u001b[0m\u001b[0m\n\u001b[0m\u001b[1;32m    151\u001b[0m     \u001b[0;32mexcept\u001b[0m \u001b[0mException\u001b[0m \u001b[0;32mas\u001b[0m \u001b[0me\u001b[0m\u001b[0;34m:\u001b[0m\u001b[0;34m\u001b[0m\u001b[0;34m\u001b[0m\u001b[0m\n\u001b[1;32m    152\u001b[0m       \u001b[0mfiltered_tb\u001b[0m \u001b[0;34m=\u001b[0m \u001b[0m_process_traceback_frames\u001b[0m\u001b[0;34m(\u001b[0m\u001b[0me\u001b[0m\u001b[0;34m.\u001b[0m\u001b[0m__traceback__\u001b[0m\u001b[0;34m)\u001b[0m\u001b[0;34m\u001b[0m\u001b[0;34m\u001b[0m\u001b[0m\n",
            "\u001b[0;32m/usr/local/lib/python3.10/dist-packages/tensorflow/python/eager/polymorphic_function/polymorphic_function.py\u001b[0m in \u001b[0;36m__call__\u001b[0;34m(self, *args, **kwds)\u001b[0m\n\u001b[1;32m    823\u001b[0m \u001b[0;34m\u001b[0m\u001b[0m\n\u001b[1;32m    824\u001b[0m       \u001b[0;32mwith\u001b[0m \u001b[0mOptionalXlaContext\u001b[0m\u001b[0;34m(\u001b[0m\u001b[0mself\u001b[0m\u001b[0;34m.\u001b[0m\u001b[0m_jit_compile\u001b[0m\u001b[0;34m)\u001b[0m\u001b[0;34m:\u001b[0m\u001b[0;34m\u001b[0m\u001b[0;34m\u001b[0m\u001b[0m\n\u001b[0;32m--> 825\u001b[0;31m         \u001b[0mresult\u001b[0m \u001b[0;34m=\u001b[0m \u001b[0mself\u001b[0m\u001b[0;34m.\u001b[0m\u001b[0m_call\u001b[0m\u001b[0;34m(\u001b[0m\u001b[0;34m*\u001b[0m\u001b[0margs\u001b[0m\u001b[0;34m,\u001b[0m \u001b[0;34m**\u001b[0m\u001b[0mkwds\u001b[0m\u001b[0;34m)\u001b[0m\u001b[0;34m\u001b[0m\u001b[0;34m\u001b[0m\u001b[0m\n\u001b[0m\u001b[1;32m    826\u001b[0m \u001b[0;34m\u001b[0m\u001b[0m\n\u001b[1;32m    827\u001b[0m       \u001b[0mnew_tracing_count\u001b[0m \u001b[0;34m=\u001b[0m \u001b[0mself\u001b[0m\u001b[0;34m.\u001b[0m\u001b[0mexperimental_get_tracing_count\u001b[0m\u001b[0;34m(\u001b[0m\u001b[0;34m)\u001b[0m\u001b[0;34m\u001b[0m\u001b[0;34m\u001b[0m\u001b[0m\n",
            "\u001b[0;32m/usr/local/lib/python3.10/dist-packages/tensorflow/python/eager/polymorphic_function/polymorphic_function.py\u001b[0m in \u001b[0;36m_call\u001b[0;34m(self, *args, **kwds)\u001b[0m\n\u001b[1;32m    855\u001b[0m       \u001b[0;31m# In this case we have created variables on the first call, so we run the\u001b[0m\u001b[0;34m\u001b[0m\u001b[0;34m\u001b[0m\u001b[0m\n\u001b[1;32m    856\u001b[0m       \u001b[0;31m# defunned version which is guaranteed to never create variables.\u001b[0m\u001b[0;34m\u001b[0m\u001b[0;34m\u001b[0m\u001b[0m\n\u001b[0;32m--> 857\u001b[0;31m       \u001b[0;32mreturn\u001b[0m \u001b[0mself\u001b[0m\u001b[0;34m.\u001b[0m\u001b[0m_no_variable_creation_fn\u001b[0m\u001b[0;34m(\u001b[0m\u001b[0;34m*\u001b[0m\u001b[0margs\u001b[0m\u001b[0;34m,\u001b[0m \u001b[0;34m**\u001b[0m\u001b[0mkwds\u001b[0m\u001b[0;34m)\u001b[0m  \u001b[0;31m# pylint: disable=not-callable\u001b[0m\u001b[0;34m\u001b[0m\u001b[0;34m\u001b[0m\u001b[0m\n\u001b[0m\u001b[1;32m    858\u001b[0m     \u001b[0;32melif\u001b[0m \u001b[0mself\u001b[0m\u001b[0;34m.\u001b[0m\u001b[0m_variable_creation_fn\u001b[0m \u001b[0;32mis\u001b[0m \u001b[0;32mnot\u001b[0m \u001b[0;32mNone\u001b[0m\u001b[0;34m:\u001b[0m\u001b[0;34m\u001b[0m\u001b[0;34m\u001b[0m\u001b[0m\n\u001b[1;32m    859\u001b[0m       \u001b[0;31m# Release the lock early so that multiple threads can perform the call\u001b[0m\u001b[0;34m\u001b[0m\u001b[0;34m\u001b[0m\u001b[0m\n",
            "\u001b[0;32m/usr/local/lib/python3.10/dist-packages/tensorflow/python/eager/polymorphic_function/tracing_compiler.py\u001b[0m in \u001b[0;36m__call__\u001b[0;34m(self, *args, **kwargs)\u001b[0m\n\u001b[1;32m    146\u001b[0m       (concrete_function,\n\u001b[1;32m    147\u001b[0m        filtered_flat_args) = self._maybe_define_function(args, kwargs)\n\u001b[0;32m--> 148\u001b[0;31m     return concrete_function._call_flat(\n\u001b[0m\u001b[1;32m    149\u001b[0m         filtered_flat_args, captured_inputs=concrete_function.captured_inputs)  # pylint: disable=protected-access\n\u001b[1;32m    150\u001b[0m \u001b[0;34m\u001b[0m\u001b[0m\n",
            "\u001b[0;32m/usr/local/lib/python3.10/dist-packages/tensorflow/python/eager/polymorphic_function/monomorphic_function.py\u001b[0m in \u001b[0;36m_call_flat\u001b[0;34m(self, args, captured_inputs)\u001b[0m\n\u001b[1;32m   1347\u001b[0m         and executing_eagerly):\n\u001b[1;32m   1348\u001b[0m       \u001b[0;31m# No tape is watching; skip to running the function.\u001b[0m\u001b[0;34m\u001b[0m\u001b[0;34m\u001b[0m\u001b[0m\n\u001b[0;32m-> 1349\u001b[0;31m       \u001b[0;32mreturn\u001b[0m \u001b[0mself\u001b[0m\u001b[0;34m.\u001b[0m\u001b[0m_build_call_outputs\u001b[0m\u001b[0;34m(\u001b[0m\u001b[0mself\u001b[0m\u001b[0;34m.\u001b[0m\u001b[0m_inference_function\u001b[0m\u001b[0;34m(\u001b[0m\u001b[0;34m*\u001b[0m\u001b[0margs\u001b[0m\u001b[0;34m)\u001b[0m\u001b[0;34m)\u001b[0m\u001b[0;34m\u001b[0m\u001b[0;34m\u001b[0m\u001b[0m\n\u001b[0m\u001b[1;32m   1350\u001b[0m     forward_backward = self._select_forward_and_backward_functions(\n\u001b[1;32m   1351\u001b[0m         \u001b[0margs\u001b[0m\u001b[0;34m,\u001b[0m\u001b[0;34m\u001b[0m\u001b[0;34m\u001b[0m\u001b[0m\n",
            "\u001b[0;32m/usr/local/lib/python3.10/dist-packages/tensorflow/python/eager/polymorphic_function/atomic_function.py\u001b[0m in \u001b[0;36m__call__\u001b[0;34m(self, *args)\u001b[0m\n\u001b[1;32m    194\u001b[0m         \u001b[0;32mwith\u001b[0m \u001b[0mrecord\u001b[0m\u001b[0;34m.\u001b[0m\u001b[0mstop_recording\u001b[0m\u001b[0;34m(\u001b[0m\u001b[0;34m)\u001b[0m\u001b[0;34m:\u001b[0m\u001b[0;34m\u001b[0m\u001b[0;34m\u001b[0m\u001b[0m\n\u001b[1;32m    195\u001b[0m           \u001b[0;32mif\u001b[0m \u001b[0mself\u001b[0m\u001b[0;34m.\u001b[0m\u001b[0m_bound_context\u001b[0m\u001b[0;34m.\u001b[0m\u001b[0mexecuting_eagerly\u001b[0m\u001b[0;34m(\u001b[0m\u001b[0;34m)\u001b[0m\u001b[0;34m:\u001b[0m\u001b[0;34m\u001b[0m\u001b[0;34m\u001b[0m\u001b[0m\n\u001b[0;32m--> 196\u001b[0;31m             outputs = self._bound_context.call_function(\n\u001b[0m\u001b[1;32m    197\u001b[0m                 \u001b[0mself\u001b[0m\u001b[0;34m.\u001b[0m\u001b[0mname\u001b[0m\u001b[0;34m,\u001b[0m\u001b[0;34m\u001b[0m\u001b[0;34m\u001b[0m\u001b[0m\n\u001b[1;32m    198\u001b[0m                 \u001b[0mlist\u001b[0m\u001b[0;34m(\u001b[0m\u001b[0margs\u001b[0m\u001b[0;34m)\u001b[0m\u001b[0;34m,\u001b[0m\u001b[0;34m\u001b[0m\u001b[0;34m\u001b[0m\u001b[0m\n",
            "\u001b[0;32m/usr/local/lib/python3.10/dist-packages/tensorflow/python/eager/context.py\u001b[0m in \u001b[0;36mcall_function\u001b[0;34m(self, name, tensor_inputs, num_outputs)\u001b[0m\n\u001b[1;32m   1455\u001b[0m     \u001b[0mcancellation_context\u001b[0m \u001b[0;34m=\u001b[0m \u001b[0mcancellation\u001b[0m\u001b[0;34m.\u001b[0m\u001b[0mcontext\u001b[0m\u001b[0;34m(\u001b[0m\u001b[0;34m)\u001b[0m\u001b[0;34m\u001b[0m\u001b[0;34m\u001b[0m\u001b[0m\n\u001b[1;32m   1456\u001b[0m     \u001b[0;32mif\u001b[0m \u001b[0mcancellation_context\u001b[0m \u001b[0;32mis\u001b[0m \u001b[0;32mNone\u001b[0m\u001b[0;34m:\u001b[0m\u001b[0;34m\u001b[0m\u001b[0;34m\u001b[0m\u001b[0m\n\u001b[0;32m-> 1457\u001b[0;31m       outputs = execute.execute(\n\u001b[0m\u001b[1;32m   1458\u001b[0m           \u001b[0mname\u001b[0m\u001b[0;34m.\u001b[0m\u001b[0mdecode\u001b[0m\u001b[0;34m(\u001b[0m\u001b[0;34m\"utf-8\"\u001b[0m\u001b[0;34m)\u001b[0m\u001b[0;34m,\u001b[0m\u001b[0;34m\u001b[0m\u001b[0;34m\u001b[0m\u001b[0m\n\u001b[1;32m   1459\u001b[0m           \u001b[0mnum_outputs\u001b[0m\u001b[0;34m=\u001b[0m\u001b[0mnum_outputs\u001b[0m\u001b[0;34m,\u001b[0m\u001b[0;34m\u001b[0m\u001b[0;34m\u001b[0m\u001b[0m\n",
            "\u001b[0;32m/usr/local/lib/python3.10/dist-packages/tensorflow/python/eager/execute.py\u001b[0m in \u001b[0;36mquick_execute\u001b[0;34m(op_name, num_outputs, inputs, attrs, ctx, name)\u001b[0m\n\u001b[1;32m     51\u001b[0m   \u001b[0;32mtry\u001b[0m\u001b[0;34m:\u001b[0m\u001b[0;34m\u001b[0m\u001b[0;34m\u001b[0m\u001b[0m\n\u001b[1;32m     52\u001b[0m     \u001b[0mctx\u001b[0m\u001b[0;34m.\u001b[0m\u001b[0mensure_initialized\u001b[0m\u001b[0;34m(\u001b[0m\u001b[0;34m)\u001b[0m\u001b[0;34m\u001b[0m\u001b[0;34m\u001b[0m\u001b[0m\n\u001b[0;32m---> 53\u001b[0;31m     tensors = pywrap_tfe.TFE_Py_Execute(ctx._handle, device_name, op_name,\n\u001b[0m\u001b[1;32m     54\u001b[0m                                         inputs, attrs, num_outputs)\n\u001b[1;32m     55\u001b[0m   \u001b[0;32mexcept\u001b[0m \u001b[0mcore\u001b[0m\u001b[0;34m.\u001b[0m\u001b[0m_NotOkStatusException\u001b[0m \u001b[0;32mas\u001b[0m \u001b[0me\u001b[0m\u001b[0;34m:\u001b[0m\u001b[0;34m\u001b[0m\u001b[0;34m\u001b[0m\u001b[0m\n",
            "\u001b[0;31mKeyboardInterrupt\u001b[0m: "
          ]
        }
      ],
      "source": [
        "#Increasing the epochs will increase the accuracy\n",
        "history = model.fit(training_ds, validation_data = validation_ds, epochs = 25)"
      ]
    },
    {
      "cell_type": "code",
      "source": [
        "plt.plot(history.history['loss'], label = 'training loss') #plots the training loss as a function of the number of epochs\n",
        "plt.plot(history.history['accuracy'], label = 'training accuracy') #plots the training accuracy as a function of the number of epochs\n",
        "plt.grid(True)\n",
        "plt.legend()"
      ],
      "metadata": {
        "id": "ma_UFYh-pAn3"
      },
      "execution_count": null,
      "outputs": []
    },
    {
      "cell_type": "code",
      "source": [
        "plt.plot(history.history['val_loss'], label = 'validation loss')\n",
        "plt.plot(history.history['val_accuracy'], label = 'validation accuracy')\n",
        "plt.grid(True)\n",
        "plt.legend()"
      ],
      "metadata": {
        "id": "6lJOdCo1pAkO"
      },
      "execution_count": null,
      "outputs": []
    },
    {
      "cell_type": "code",
      "source": [
        "#Shows the image, the predicted class and the actual class for each image in the test dataset\n",
        "AccuracyVector = []\n",
        "plt.figure(figsize=(30, 30))\n",
        "for images, labels in testing_ds.take(1):\n",
        "    predictions = model.predict(images)\n",
        "    predlabel = []\n",
        "    prdlbl = []\n",
        "\n",
        "    for mem in predictions:\n",
        "        predlabel.append(class_names[np.argmax(mem)])\n",
        "        prdlbl.append(np.argmax(mem))\n",
        "\n",
        "    AccuracyVector = np.array(prdlbl) == labels\n",
        "    for i in range(40):\n",
        "        ax = plt.subplot(10, 4, i + 1)\n",
        "        plt.imshow(images[i].numpy().astype(\"uint8\"))\n",
        "        plt.title('Pred: '+ predlabel[i]+' actl:'+class_names[labels[i]] )\n",
        "        plt.axis('off')\n",
        "        plt.grid(True)"
      ],
      "metadata": {
        "id": "WrOzTw4cpAhw"
      },
      "execution_count": null,
      "outputs": []
    },
    {
      "cell_type": "code",
      "source": [
        "from tensorflow.keras.utils import plot_model\n",
        "plot_model(model, to_file='model.png', show_shapes=True)"
      ],
      "metadata": {
        "id": "jITpLCNOpAfa"
      },
      "execution_count": null,
      "outputs": []
    },
    {
      "cell_type": "code",
      "source": [
        "print(class_names)"
      ],
      "metadata": {
        "id": "x7Jq8aN-CzKY"
      },
      "execution_count": null,
      "outputs": []
    },
    {
      "cell_type": "markdown",
      "source": [
        "### Testing Model on Videos"
      ],
      "metadata": {
        "id": "PPXdsnsvZl2Z"
      }
    },
    {
      "cell_type": "code",
      "source": [
        "def predict_frame(img):\n",
        "    img_array = tf.keras.utils.img_to_array(img)\n",
        "    img_batch = np.expand_dims(img_array, axis=0)\n",
        "    prediction=(model.predict(img_batch) > 0.5).astype(\"int32\")\n",
        "    if(prediction[0][0]==0):\n",
        "        return(\"Accident Detected\")\n",
        "    else:\n",
        "        return(\"No Accident\")"
      ],
      "metadata": {
        "id": "dU1MLNPTCzG1"
      },
      "execution_count": null,
      "outputs": []
    },
    {
      "cell_type": "code",
      "source": [
        "!kaggle datasets download -d fahaddalwai/cctvfootagevideo"
      ],
      "metadata": {
        "id": "CuvwW_HpCzEo"
      },
      "execution_count": null,
      "outputs": []
    },
    {
      "cell_type": "code",
      "source": [
        "!unzip cctvfootagevideo.zip"
      ],
      "metadata": {
        "id": "YU0Y1zCmPIam"
      },
      "execution_count": null,
      "outputs": []
    },
    {
      "cell_type": "code",
      "source": [
        "#Reading the video in and grabbing every 30th frame and resizing them, collecting them in lists along with corresponding labels or predictions\n",
        "import cv2\n",
        "image=[]\n",
        "label=[]\n",
        "c=1\n",
        "cap= cv2.VideoCapture('/content/videoplayback (online-video-cutter.com).mp4')\n",
        "while True:\n",
        "    grabbed, frame = cap.read()\n",
        "    if c%30==0:\n",
        "        print(c)\n",
        "        resized_frame=tf.keras.preprocessing.image.smart_resize(frame, (img_height, img_width), interpolation='bilinear')\n",
        "        image.append(frame)\n",
        "        label.append(predict_frame(resized_frame))\n",
        "        if(len(image)==75):\n",
        "            break\n",
        "    c+=1\n",
        "cap.release()"
      ],
      "metadata": {
        "id": "UGAYibxhPIEC"
      },
      "execution_count": null,
      "outputs": []
    },
    {
      "cell_type": "code",
      "source": [
        "print(label[10])\n",
        "print(plt.imshow(image[10]))\n",
        "#no accident detected"
      ],
      "metadata": {
        "id": "H1KMjMSxUBk5"
      },
      "execution_count": null,
      "outputs": []
    },
    {
      "cell_type": "code",
      "source": [
        "print(label[45])\n",
        "print(plt.imshow(image[45]))\n",
        "#accident detected"
      ],
      "metadata": {
        "id": "iOIYNoRxcXbt"
      },
      "execution_count": null,
      "outputs": []
    },
    {
      "cell_type": "markdown",
      "source": [
        "### Converting to TFLite Model"
      ],
      "metadata": {
        "id": "MckhHxpWaGBS"
      }
    },
    {
      "cell_type": "code",
      "source": [
        "#converting the trained model into a TFLite model optimizes the model for deployment on resource-constrained devices\n",
        "converter = tf.lite.TFLiteConverter.from_keras_model(model)\n",
        "tflite_model = converter.convert()\n",
        "\n",
        "# Save the model.\n",
        "with open('tf_lite_model.tflite', 'wb') as f:\n",
        "    f.write(tflite_model)"
      ],
      "metadata": {
        "id": "RzVVh8LaPHol"
      },
      "execution_count": null,
      "outputs": []
    },
    {
      "cell_type": "code",
      "source": [
        "interpreter = tf.lite.Interpreter(model_path = 'tf_lite_model.tflite')\n",
        "input_details = interpreter.get_input_details()\n",
        "output_details = interpreter.get_output_details()\n",
        "print(\"Input Shape:\", input_details[0]['shape'])\n",
        "print(\"Input Type:\", input_details[0]['dtype'])\n",
        "print(\"Output Shape:\", output_details[0]['shape'])\n",
        "print(\"Output Type:\", output_details[0]['dtype'])"
      ],
      "metadata": {
        "id": "G6gdRKllPK68"
      },
      "execution_count": null,
      "outputs": []
    },
    {
      "cell_type": "code",
      "source": [
        "interpreter.resize_tensor_input(input_details[0]['index'], (1, 250, 250,3))\n",
        "interpreter.resize_tensor_input(output_details[0]['index'], (1, 2))\n",
        "interpreter.allocate_tensors()\n",
        "input_details = interpreter.get_input_details()\n",
        "output_details = interpreter.get_output_details()\n",
        "print(\"Input Shape:\", input_details[0]['shape'])\n",
        "print(\"Input Type:\", input_details[0]['dtype'])\n",
        "print(\"Output Shape:\", output_details[0]['shape'])\n",
        "print(\"Output Type:\", output_details[0]['dtype'])"
      ],
      "metadata": {
        "id": "vYUKMcGYPKyf"
      },
      "execution_count": null,
      "outputs": []
    },
    {
      "cell_type": "code",
      "source": [
        "#A TFLite model is referred to as an interpreter.\n",
        "#We open it up and have a look at the input and output shape.\n",
        "#It should be a single image of height and width 250 by 250 with 3 colour channels.\n",
        "#The output can be of 2 types only. Accident or Non Accident"
      ],
      "metadata": {
        "id": "3330aw1BaJtm"
      },
      "execution_count": null,
      "outputs": []
    },
    {
      "cell_type": "markdown",
      "source": [
        "### Trying Our TFLite Model Out"
      ],
      "metadata": {
        "id": "tcvg9-y-aQJ_"
      }
    },
    {
      "cell_type": "code",
      "source": [
        "#In binary classification, the model predicts one of the two classes based on these confidence scores."
      ],
      "metadata": {
        "id": "mXsO61dMjy9j"
      },
      "execution_count": null,
      "outputs": []
    },
    {
      "cell_type": "code",
      "source": [
        "from PIL import Image\n",
        "im=Image.open(\"/content/data/train/Non Accident/5_17.jpg\").resize((250,250))\n",
        "img_array = tf.keras.utils.img_to_array(im)\n",
        "img_batch = np.expand_dims(img_array, axis=0)"
      ],
      "metadata": {
        "id": "3l9EOx2-PKvE"
      },
      "execution_count": null,
      "outputs": []
    },
    {
      "cell_type": "code",
      "source": [
        "interpreter.set_tensor(input_details[0]['index'], img_batch)\n",
        "interpreter.invoke()\n",
        "tflite_model_predictions = interpreter.get_tensor(output_details[0]['index'])\n",
        "print(\"Prediction results:\", tflite_model_predictions)\n",
        "print(plt.imshow(im))"
      ],
      "metadata": {
        "id": "QmKGupbCPSdN"
      },
      "execution_count": null,
      "outputs": []
    },
    {
      "cell_type": "code",
      "source": [
        "from PIL import Image\n",
        "im=Image.open(\"/content/data/train/Accident/test10_41.jpg\").resize((250,250))\n",
        "img_array = tf.keras.utils.img_to_array(im)\n",
        "img_batch = np.expand_dims(img_array, axis=0)"
      ],
      "metadata": {
        "id": "iPgkmBUGReiD"
      },
      "execution_count": null,
      "outputs": []
    },
    {
      "cell_type": "code",
      "source": [
        "interpreter.set_tensor(input_details[0]['index'], img_batch)\n",
        "interpreter.invoke()\n",
        "tflite_model_predictions = interpreter.get_tensor(output_details[0]['index'])\n",
        "print(\"Prediction results:\", tflite_model_predictions)\n",
        "print(plt.imshow(im))"
      ],
      "metadata": {
        "id": "po_evh6lRecp"
      },
      "execution_count": null,
      "outputs": []
    },
    {
      "cell_type": "markdown",
      "source": [
        "#### Evaluation of CNN Model"
      ],
      "metadata": {
        "id": "OiaisKTJakRT"
      }
    },
    {
      "cell_type": "code",
      "source": [
        "rom sklearn.metrics import accuracy_score, classification_report\n",
        "\n",
        "# Evaluate the model on the testing data\n",
        "test_loss, test_accuracy = model.evaluate(testing_ds)\n",
        "print(f\"Test accuracy: {test_accuracy}\")"
      ],
      "metadata": {
        "id": "7dmN755Nxb5L"
      },
      "execution_count": null,
      "outputs": []
    },
    {
      "cell_type": "code",
      "source": [
        "# Plotting the training and Validation accuracy over epochs\n",
        "plt.figure(figsize=(10, 6))\n",
        "plt.plot(history.history['accuracy'], label='Training Accuracy')\n",
        "plt.plot(history.history['val_accuracy'], label='Validation Accuracy')\n",
        "plt.xlabel('Epoch')\n",
        "plt.ylabel('Accuracy')\n",
        "plt.title('Training and Validation Accuracy Over Epochs')\n",
        "plt.legend()\n",
        "plt.grid(True)\n",
        "plt.show()"
      ],
      "metadata": {
        "id": "FdzHoQuxhJzf"
      },
      "execution_count": null,
      "outputs": []
    },
    {
      "cell_type": "markdown",
      "source": [
        "# **Image Classification**"
      ],
      "metadata": {
        "id": "R_mUUHP8xcQV"
      }
    },
    {
      "cell_type": "code",
      "source": [
        "from sklearn.ensemble import RandomForestClassifier\n",
        "from sklearn.neighbors import KNeighborsClassifier\n",
        "from sklearn.linear_model import LogisticRegression\n",
        "from sklearn.metrics import accuracy_score"
      ],
      "metadata": {
        "id": "2pbnTNsYxlhb"
      },
      "execution_count": null,
      "outputs": []
    },
    {
      "cell_type": "code",
      "source": [
        "# Initialize empty lists to store image data and labels\n",
        "train_data = []\n",
        "train_labels = []"
      ],
      "metadata": {
        "id": "e8h2tFCa6_hM"
      },
      "execution_count": null,
      "outputs": []
    },
    {
      "cell_type": "code",
      "source": [
        "# Iterate through the training dataset to extract data and labels\n",
        "for images, labels in training_ds:\n",
        "    train_data.extend(images.numpy())\n",
        "    train_labels.extend(labels.numpy())"
      ],
      "metadata": {
        "id": "JWVxXNGD6_d2"
      },
      "execution_count": null,
      "outputs": []
    },
    {
      "cell_type": "code",
      "source": [
        "# Convert the lists to NumPy arrays\n",
        "train_data = np.array(train_data)\n",
        "train_labels = np.array(train_labels)"
      ],
      "metadata": {
        "id": "I-aazW186_bV"
      },
      "execution_count": null,
      "outputs": []
    },
    {
      "cell_type": "code",
      "source": [
        "# Reshape the data to 1D arrays (flatten images)\n",
        "train_data = train_data.reshape(train_data.shape[0], -1)"
      ],
      "metadata": {
        "id": "JwUBf9bX7E2v"
      },
      "execution_count": null,
      "outputs": []
    },
    {
      "cell_type": "code",
      "source": [
        "# Initialize empty lists to store image data and labels for testing\n",
        "test_data = []\n",
        "test_labels = []"
      ],
      "metadata": {
        "id": "hJVEJpPo7EzL"
      },
      "execution_count": null,
      "outputs": []
    },
    {
      "cell_type": "code",
      "source": [
        "# Iterate through the testing dataset to extract data and labels\n",
        "for images, labels in testing_ds:\n",
        "    test_data.extend(images.numpy())\n",
        "    test_labels.extend(labels.numpy())"
      ],
      "metadata": {
        "id": "3mwwUwNd7IsY"
      },
      "execution_count": null,
      "outputs": []
    },
    {
      "cell_type": "code",
      "source": [
        "# Convert the lists to NumPy arrays\n",
        "test_data = np.array(test_data)\n",
        "test_labels = np.array(test_labels)"
      ],
      "metadata": {
        "id": "2JaPaBUw7Io8"
      },
      "execution_count": null,
      "outputs": []
    },
    {
      "cell_type": "code",
      "source": [
        "# Reshape the test data to 1D arrays (flatten images)\n",
        "test_data = test_data.reshape(test_data.shape[0], -1)"
      ],
      "metadata": {
        "id": "jnwihGxq7ImW"
      },
      "execution_count": null,
      "outputs": []
    },
    {
      "cell_type": "markdown",
      "source": [
        "### **KNN Classification**"
      ],
      "metadata": {
        "id": "GEyWObS57iIp"
      }
    },
    {
      "cell_type": "code",
      "source": [
        "# Create a K-Nearest Neighbors (KNN) classifier\n",
        "knn_classifier = KNeighborsClassifier(n_neighbors=5)"
      ],
      "metadata": {
        "id": "mlr082Pnxp0B"
      },
      "execution_count": null,
      "outputs": []
    },
    {
      "cell_type": "code",
      "source": [
        "# Train the KNN classifier on the training data\n",
        "knn_classifier.fit(train_data, train_labels)"
      ],
      "metadata": {
        "id": "XHA-Lm4f6xj4"
      },
      "execution_count": null,
      "outputs": []
    },
    {
      "cell_type": "code",
      "source": [
        "# Make predictions on the testing data\n",
        "y_pred = knn_classifier.predict(test_data)"
      ],
      "metadata": {
        "id": "0xKe07_g6xdk"
      },
      "execution_count": null,
      "outputs": []
    },
    {
      "cell_type": "code",
      "source": [
        "# Calculate and print accuracy on the testing data\n",
        "accuracy = accuracy_score(test_labels, y_pred)\n",
        "print(f\"Accuracy on testing data: {accuracy}\")"
      ],
      "metadata": {
        "id": "u26019HO6xaQ"
      },
      "execution_count": null,
      "outputs": []
    },
    {
      "cell_type": "code",
      "source": [
        "from sklearn.metrics import confusion_matrix\n",
        "import seaborn as sns\n",
        "\n",
        "# Generate the confusion matrix\n",
        "cm = confusion_matrix(test_labels, y_pred)\n",
        "\n",
        "# Plot the confusion matrix as a heatmap\n",
        "plt.figure(figsize=(8, 6))\n",
        "sns.heatmap(cm, annot=True, fmt='d', cmap='Blues', cbar=False)\n",
        "plt.title('Confusion Matrix')\n",
        "plt.xlabel('Predicted Labels')\n",
        "plt.ylabel('True Labels')\n",
        "plt.show()"
      ],
      "metadata": {
        "id": "TobMgQrJfLw5"
      },
      "execution_count": null,
      "outputs": []
    },
    {
      "cell_type": "markdown",
      "source": [
        "### **Random Forest Classification**"
      ],
      "metadata": {
        "id": "EDR2TY757oCi"
      }
    },
    {
      "cell_type": "code",
      "source": [
        "# Create a Random Forest classifier\n",
        "rf_classifier = RandomForestClassifier(n_estimators=100,random_state=42)"
      ],
      "metadata": {
        "id": "AU8nPo3y6xYE"
      },
      "execution_count": null,
      "outputs": []
    },
    {
      "cell_type": "code",
      "source": [
        "# Train the Random Forest classifier on the training data\n",
        "rf_classifier.fit(train_data, train_labels)"
      ],
      "metadata": {
        "id": "9S9tGABa6xV0"
      },
      "execution_count": null,
      "outputs": []
    },
    {
      "cell_type": "code",
      "source": [
        "# Make predictions on the testing data\n",
        "y_pred = rf_classifier.predict(test_data)"
      ],
      "metadata": {
        "id": "VwL2QBDz7u6J"
      },
      "execution_count": null,
      "outputs": []
    },
    {
      "cell_type": "code",
      "source": [
        "# Calculate and print accuracy on the testing data\n",
        "accuracy = accuracy_score(test_labels, y_pred)\n",
        "print(f\"Accuracy on testing data: {accuracy}\")"
      ],
      "metadata": {
        "id": "Jel7hr_W7u2w"
      },
      "execution_count": null,
      "outputs": []
    },
    {
      "cell_type": "code",
      "source": [
        "from sklearn.metrics import confusion_matrix\n",
        "import matplotlib.pyplot as plt\n",
        "import seaborn as sns\n",
        "\n",
        "# Generate the confusion matrix\n",
        "cm = confusion_matrix(test_labels, y_pred)\n",
        "\n",
        "# Plot the confusion matrix as a heatmap\n",
        "plt.figure(figsize=(8, 6))\n",
        "sns.heatmap(cm, annot=True, fmt='d', cmap='Blues', cbar=False)\n",
        "plt.title('Confusion Matrix')\n",
        "plt.xlabel('Predicted Labels')\n",
        "plt.ylabel('True Labels')\n",
        "plt.show()"
      ],
      "metadata": {
        "id": "Jm6BDjDvf8GO"
      },
      "execution_count": null,
      "outputs": []
    }
  ],
  "metadata": {
    "colab": {
      "provenance": []
    },
    "kernelspec": {
      "display_name": "Python 3",
      "name": "python3"
    },
    "language_info": {
      "name": "python"
    }
  },
  "nbformat": 4,
  "nbformat_minor": 0
}